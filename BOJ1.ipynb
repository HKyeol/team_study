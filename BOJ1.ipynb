{
  "nbformat": 4,
  "nbformat_minor": 0,
  "metadata": {
    "colab": {
      "name": "BOJ1.ipynb",
      "provenance": [],
      "authorship_tag": "ABX9TyNO1SgFE8CqsSr9OdFoWyVd",
      "include_colab_link": true
    },
    "kernelspec": {
      "name": "python3",
      "display_name": "Python 3"
    }
  },
  "cells": [
    {
      "cell_type": "markdown",
      "metadata": {
        "id": "view-in-github",
        "colab_type": "text"
      },
      "source": [
        "<a href=\"https://colab.research.google.com/github/HKyeol/team_study/blob/main/BOJ1.ipynb\" target=\"_parent\"><img src=\"https://colab.research.google.com/assets/colab-badge.svg\" alt=\"Open In Colab\"/></a>"
      ]
    },
    {
      "cell_type": "markdown",
      "metadata": {
        "id": "tj7ITUcanlL2"
      },
      "source": [
        ""
      ]
    },
    {
      "cell_type": "code",
      "metadata": {
        "id": "IfQ_4vKinl95"
      },
      "source": [
        "10000보다 작다."
      ],
      "execution_count": null,
      "outputs": []
    },
    {
      "cell_type": "code",
      "metadata": {
        "id": "v5XhgM8JnkEA"
      },
      "source": [
        "def self_number(num,data,a=[]):\r\n",
        "    if num <10000:\r\n",
        "        result = num\r\n",
        "        for i in str(num):\r\n",
        "            result += int(i)\r\n",
        "        a.append(result)\r\n",
        "        num = result\r\n",
        "        return self_number(num,data,a)\r\n",
        "    else:\r\n",
        "        a = list(set(a))\r\n",
        "        return data,a\r\n",
        "data = [i for i in range(1,10001)]\r\n",
        "b = []\r\n",
        "for j in range(1,10001):\r\n",
        "    data,b = self_number(j,data)[0],b+self_number(j,data)[1]\r\n",
        "\r\n",
        "len(data)\r\n",
        "len(b)\r\n",
        "#for i in range(1,10001):\r\n",
        "#    print(i)\r\n"
      ],
      "execution_count": null,
      "outputs": []
    },
    {
      "cell_type": "code",
      "metadata": {
        "colab": {
          "base_uri": "https://localhost:8080/"
        },
        "id": "vqtvSetzs2si",
        "outputId": "6f69b0fd-7343-48d0-f5f6-e00cf2449998"
      },
      "source": [
        "data = [i for i in range(1,11)]\r\n",
        "a = [2,4,6,7]\r\n",
        "for i in a:\r\n",
        "    data.remove(i)\r\n",
        "data"
      ],
      "execution_count": 25,
      "outputs": [
        {
          "output_type": "execute_result",
          "data": {
            "text/plain": [
              "[1, 3, 5, 8, 9, 10]"
            ]
          },
          "metadata": {
            "tags": []
          },
          "execution_count": 25
        }
      ]
    },
    {
      "cell_type": "code",
      "metadata": {
        "colab": {
          "base_uri": "https://localhost:8080/"
        },
        "id": "D29JV6WdHMuV",
        "outputId": "e10ddd13-a739-4fac-b766-05e341025559"
      },
      "source": [
        "def self_number(num):\r\n",
        "    a = []\r\n",
        "    if num == 1:\r\n",
        "        print(num)\r\n",
        "        result = num\r\n",
        "        for i in str(num):\r\n",
        "            result += int(i)\r\n",
        "        return self_number(result)\r\n",
        "    else:\r\n",
        "\r\n",
        "a = []\r\n",
        "print(1)\r\n",
        "2 4 8 16 23\r\n",
        "print(3)\r\n",
        "3 6 12 15 21\r\n",
        "self_number(2)\r\n"
      ],
      "execution_count": 47,
      "outputs": [
        {
          "output_type": "stream",
          "text": [
            "4\n"
          ],
          "name": "stdout"
        }
      ]
    },
    {
      "cell_type": "code",
      "metadata": {
        "id": "qMQj5R1iQR6T"
      },
      "source": [
        "a = []\r\n",
        "num = 1\r\n",
        "while num <10001:\r\n",
        "    result = num\r\n",
        "    for i in str(num):\r\n",
        "        result += int(i)\r\n",
        "    a.append(result)\r\n",
        "    num += 1\r\n",
        "default_set = set(range(1,10001))\r\n",
        "a = set(a)\r\n",
        "result = default_set - a\r\n",
        "for i in sorted(result):\r\n",
        "    print(i)\r\n"
      ],
      "execution_count": null,
      "outputs": []
    },
    {
      "cell_type": "code",
      "metadata": {
        "id": "IWfgiiZ3S0iJ"
      },
      "source": [
        "def d(n):\r\n",
        "    num = int(n)\r\n",
        "    for i in list(str(n)):\r\n",
        "        num += int(i)\r\n",
        "    return num\r\n",
        "\r\n",
        "default_set = set(range(1,10001))\r\n",
        "remove_set = set() \r\n",
        "\r\n",
        "for i in range(1, 10001):\r\n",
        "    remove_set.add(d(i))\r\n",
        "\r\n",
        "result = default_set - remove_set\r\n",
        "\r\n",
        "for i in sorted(result):\r\n",
        "    print(i)"
      ],
      "execution_count": null,
      "outputs": []
    },
    {
      "cell_type": "markdown",
      "metadata": {
        "id": "U2rzZJIMUAFN"
      },
      "source": [
        "남의 답\r\n",
        "set이 빠르구나... 순서가 없어서 그런가?"
      ]
    },
    {
      "cell_type": "code",
      "metadata": {
        "id": "wwjFfxCuS9DF"
      },
      "source": [
        "def d(n):\r\n",
        "    num = int(n)\r\n",
        "    for i in str(n):\r\n",
        "        num += int(i)\r\n",
        "    return num\r\n",
        "\r\n",
        "default_set = set(range(1,10001))\r\n",
        "remove_set = set()\r\n",
        "\r\n",
        "for i in range(1,10001):\r\n",
        "    remove_set.add(d(i))\r\n",
        "result = default_set - remove_set\r\n",
        "\r\n",
        "for i in result:\r\n",
        "    print(i)"
      ],
      "execution_count": null,
      "outputs": []
    },
    {
      "cell_type": "markdown",
      "metadata": {
        "id": "mcMppbseUzcG"
      },
      "source": [
        "고양이 출력"
      ]
    },
    {
      "cell_type": "code",
      "metadata": {
        "colab": {
          "base_uri": "https://localhost:8080/"
        },
        "id": "Nq_eF6yKTPrg",
        "outputId": "f61191d4-3f33-4442-a74e-ec48a7676afa"
      },
      "source": [
        "print(\"\\    /\\\\\")\r\n",
        "print(\" )  ( ')\")\r\n",
        "print(\"(  /  )\")\r\n",
        "print(\" \\(__)|\")"
      ],
      "execution_count": 74,
      "outputs": [
        {
          "output_type": "stream",
          "text": [
            "\\    /\\\n",
            " )  ( ')\n",
            "(  /  )\n",
            " \\(__)|\n"
          ],
          "name": "stdout"
        }
      ]
    },
    {
      "cell_type": "code",
      "metadata": {
        "colab": {
          "base_uri": "https://localhost:8080/"
        },
        "id": "gtcMM6NmVYcp",
        "outputId": "a4b84fce-2700-4da7-e049-fdaff9a03a68"
      },
      "source": [
        "print('|\\_/|')\r\n",
        "print('|q p|   /}')\r\n",
        "print('( 0 )\"\"\"\\\\')\r\n",
        "print('|\"^\"`    |')\r\n",
        "print('||_/=\\\\\\__|')"
      ],
      "execution_count": 85,
      "outputs": [
        {
          "output_type": "stream",
          "text": [
            "|\\_/|\n",
            "|q p|   /}\n",
            "( 0 )\"\"\"\\\n",
            "|\"^\"`    |\n",
            "||_/=\\\\__|\n"
          ],
          "name": "stdout"
        }
      ]
    },
    {
      "cell_type": "code",
      "metadata": {
        "colab": {
          "base_uri": "https://localhost:8080/"
        },
        "id": "BMogRQwCXoFg",
        "outputId": "9cad9c88-b75e-42a1-d563-6d52741fdbec"
      },
      "source": [
        "#a, b = map(int, input().split())\r\n",
        "#print(a+b)\r\n",
        "a, b = map(int,input().split())\r\n",
        "print(a+b)"
      ],
      "execution_count": 96,
      "outputs": [
        {
          "output_type": "stream",
          "text": [
            "1 2\n",
            "3\n"
          ],
          "name": "stdout"
        }
      ]
    },
    {
      "cell_type": "code",
      "metadata": {
        "colab": {
          "base_uri": "https://localhost:8080/"
        },
        "id": "i11yrYlBZw4a",
        "outputId": "7bc70f97-190d-4d6d-9b07-6cc396736c18"
      },
      "source": [
        "A,B = map(int,input().split())\r\n",
        "print(A+B)\r\n",
        "print(A-B)\r\n",
        "print(A*B)\r\n",
        "print(A//B)\r\n",
        "print(A%B)"
      ],
      "execution_count": 100,
      "outputs": [
        {
          "output_type": "stream",
          "text": [
            "1 2\n",
            "3\n",
            "-1\n",
            "2\n",
            "0\n",
            "1\n"
          ],
          "name": "stdout"
        }
      ]
    },
    {
      "cell_type": "code",
      "metadata": {
        "id": "tKlyy3-7acP7"
      },
      "source": [
        "첫째 줄에 (A+B)%C, 둘째 줄에 ((A%C) + (B%C))%C, 셋째 줄에 (A×B)%C, 넷째 줄에 ((A%C) × (B%C))%C를 출력한다."
      ],
      "execution_count": null,
      "outputs": []
    },
    {
      "cell_type": "code",
      "metadata": {
        "colab": {
          "base_uri": "https://localhost:8080/"
        },
        "id": "Td-HlGP5ac4x",
        "outputId": "4c960371-1139-4f2a-9358-a130b1592e31"
      },
      "source": [
        "A,B,C= map(int,input().split())\r\n",
        "print((A+B)%C)\r\n",
        "print(((A%C) + (B%C))%C)\r\n",
        "print((A*B)%C)\r\n",
        "print(((A%C)*(B%C))%C)"
      ],
      "execution_count": 104,
      "outputs": [
        {
          "output_type": "stream",
          "text": [
            "3 5 7\n",
            "1\n",
            "1\n",
            "1\n",
            "1\n"
          ],
          "name": "stdout"
        }
      ]
    },
    {
      "cell_type": "markdown",
      "metadata": {
        "id": "l9RhX6OpbV5x"
      },
      "source": [
        ")과 (2)위치에 들어갈 세 자리 자연수가 주어질 때 (3), (4), (5), (6)위치에 들어갈 값을 구하는 프로그램을 작성하시오."
      ]
    },
    {
      "cell_type": "code",
      "metadata": {
        "colab": {
          "base_uri": "https://localhost:8080/"
        },
        "id": "n_sxVGeZbXcW",
        "outputId": "6959acf3-21b5-49e0-aace-989cd6f3edf6"
      },
      "source": [
        "\r\n",
        "a,b,c = [i for i in str(input())]\r\n",
        "d,e,f = [i for i in str(input())]\r\n",
        "num1 = int(a+b+c)\r\n",
        "print(num1*int(f))\r\n",
        "print(num1*int(e))\r\n",
        "print(num1*int(d))\r\n",
        "print(num1*int(d+e+f))"
      ],
      "execution_count": 111,
      "outputs": [
        {
          "output_type": "stream",
          "text": [
            "123\n",
            "1 2 3\n"
          ],
          "name": "stdout"
        }
      ]
    }
  ]
}