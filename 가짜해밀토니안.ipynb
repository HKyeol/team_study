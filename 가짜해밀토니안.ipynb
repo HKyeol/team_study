{
  "nbformat": 4,
  "nbformat_minor": 0,
  "metadata": {
    "colab": {
      "name": "가짜해밀토니안.ipynb",
      "provenance": [],
      "authorship_tag": "ABX9TyMK3GyBRYLvp1+hEXrxhLS5",
      "include_colab_link": true
    },
    "kernelspec": {
      "name": "python3",
      "display_name": "Python 3"
    }
  },
  "cells": [
    {
      "cell_type": "markdown",
      "metadata": {
        "id": "view-in-github",
        "colab_type": "text"
      },
      "source": [
        "<a href=\"https://colab.research.google.com/github/HKyeol/team_study/blob/main/%EA%B0%80%EC%A7%9C%ED%95%B4%EB%B0%80%ED%86%A0%EB%8B%88%EC%95%88.ipynb\" target=\"_parent\"><img src=\"https://colab.research.google.com/assets/colab-badge.svg\" alt=\"Open In Colab\"/></a>"
      ]
    },
    {
      "cell_type": "markdown",
      "metadata": {
        "id": "kaoHu0tTH42N"
      },
      "source": [
        "svd"
      ]
    },
    {
      "cell_type": "code",
      "metadata": {
        "id": "nPs6aAhjEWZV"
      },
      "source": [
        "import numpy as np\r\n",
        "t = [[5,1],[2,5],[3,5],[3,6],[2,4],[4,0]]\r\n",
        "a = [[0 for i in range(7)] for i in range(7)]\r\n",
        "a = np.array(a)\r\n",
        "#print(a[5,1])\r\n",
        "for i in t:\r\n",
        "    a[i[0],i[1]] = 1\r\n",
        "    a[i[1],i[0]] = 1\r\n",
        "#matA = np.array(a).astype(np.float64)\r\n",
        "U,s,V = np.linalg.svd(a, full_matrices = True)\r\n",
        "\r\n",
        "# s는 matA의 고유값(eigenvalue) 리스트이다.\r\n",
        " # svd를 이용하여 근사한(approximated) 결과를 원본과 비교하기 위해\r\n",
        " # s를 유사대각행렬로 변환한다.\r\n",
        " # 유사행렬에 대한 내용은 이전 포스트 참조.\r\n",
        "S = np.zeros(matA.shape)\r\n",
        "for i in range(len(s)):\r\n",
        "    S[i][i] = s[i]\r\n",
        "# 근사한 결과를 계산한다.\r\n",
        "appA = np.dot(U, np.dot(S, V))\r\n",
        "print(U)\r\n",
        "print(S)\r\n",
        "print(V)\r\n",
        "\r\n",
        " # 원래 행렬인 matA와 근사한 행렬인 appA가 서로 비슷하다면\r\n",
        " # 두 행렬의 차이는 영행렬(zero matrix)에 가까울 것이다.\r\n",
        " # 즉, 다음의 결과가 대부분 0으로 채워져있다면 성공적인 svd가 이루어진 것이다.\r\n",
        " # 파이썬 버전에 따라 출력방식이 다르므로 주의한다.\r\n",
        " # case : python2 사용자\r\n",
        " # case : python3 사용자\r\n",
        "\r\n",
        "#print(matA - appA)"
      ],
      "execution_count": null,
      "outputs": []
    },
    {
      "cell_type": "code",
      "metadata": {
        "colab": {
          "base_uri": "https://localhost:8080/"
        },
        "id": "I7ASjC2bH6xQ",
        "outputId": "73535885-b7e5-4f58-c61c-7384778d133b"
      },
      "source": [
        "import numpy as np\r\n",
        "t = [[5,1],[2,5],[3,5],[3,6],[2,4],[4,0]]\r\n",
        "a = [[0 for i in range(7)] for i in range(7)]\r\n",
        "a = np.array(a)\r\n",
        "#print(a[5,1])\r\n",
        "for i in t:\r\n",
        "    a[i[0],i[1]] = 1\r\n",
        "    a[i[1],i[0]] = 1\r\n",
        "eigenvalue, eigenvector = np.linalg.eig(a)\r\n",
        "print(eigenvector)\r\n",
        "#II = np.identity(n=7, dtype=np.int8)*2\r\n",
        "np.dot(eigenvalue,eigenvalue)"
      ],
      "execution_count": 75,
      "outputs": [
        {
          "output_type": "stream",
          "text": [
            "[[-1.61229842e-01 -1.61229842e-01  4.64242827e-01  4.64242827e-01\n",
            "  -3.03012985e-01 -5.77350269e-01  3.03012985e-01]\n",
            " [-3.03012985e-01 -3.03012985e-01 -1.61229842e-01 -1.61229842e-01\n",
            "   4.64242827e-01 -5.77350269e-01 -4.64242827e-01]\n",
            " [-4.64242827e-01 -4.64242827e-01  3.03012985e-01  3.03012985e-01\n",
            "   1.61229842e-01  5.77350269e-01 -1.61229842e-01]\n",
            " [-4.08248290e-01 -4.08248290e-01 -4.08248290e-01 -4.08248290e-01\n",
            "  -4.08248290e-01  2.00032731e-16  4.08248290e-01]\n",
            " [-3.17560796e-01  3.17560796e-01  5.96819074e-01 -5.96819074e-01\n",
            "   2.07273089e-01 -1.66259903e-16  2.07273089e-01]\n",
            " [-5.96819074e-01  5.96819074e-01 -2.07273089e-01  2.07273089e-01\n",
            "  -3.17560796e-01 -1.74055935e-16 -3.17560796e-01]\n",
            " [-2.07273089e-01  2.07273089e-01 -3.17560796e-01  3.17560796e-01\n",
            "   5.96819074e-01 -7.45894213e-17  5.96819074e-01]]\n"
          ],
          "name": "stdout"
        },
        {
          "output_type": "execute_result",
          "data": {
            "text/plain": [
              "11.999999999999977"
            ]
          },
          "metadata": {
            "tags": []
          },
          "execution_count": 75
        }
      ]
    },
    {
      "cell_type": "markdown",
      "metadata": {
        "id": "cds76y3oQRX6"
      },
      "source": [
        "행렬맛보기"
      ]
    },
    {
      "cell_type": "code",
      "metadata": {
        "colab": {
          "base_uri": "https://localhost:8080/"
        },
        "id": "70nBp4seJKPu",
        "outputId": "7093e794-9c0f-47ba-baa2-2bb6c2664bd9"
      },
      "source": [
        "import numpy as np\r\n",
        "t = [[5,1],[2,5],[3,5],[3,6],[2,4],[4,0]]\r\n",
        "a = [[0 for i in range(7)] for i in range(7)]\r\n",
        "a = np.array(a)\r\n",
        "#print(a[5,1])\r\n",
        "for i in t:\r\n",
        "    a[i[0],i[1]] = 1\r\n",
        "    a[i[1],i[0]] = 1\r\n",
        "b = a\r\n",
        "\r\n",
        "#for k in range(2):\r\n",
        "for k in range(0,7):\r\n",
        "    a = [[0 for i in range(7)] for i in range(7)]\r\n",
        "    a = np.array(a)\r\n",
        "    for i in t:\r\n",
        "        a[i[0],i[1]] = 1\r\n",
        "        a[i[1],i[0]] = 1\r\n",
        "    print('')\r\n",
        "    print(f'{k}부터 시작해서 7번')\r\n",
        "    print(' 0,1,2,3,4,5,6')\r\n",
        "    a = a[k,:]\r\n",
        "    for j in range(7):\r\n",
        "        print(a)\r\n",
        "        a = np.dot(a,b)\r\n",
        "print(b)\r\n",
        "\r\n"
      ],
      "execution_count": 240,
      "outputs": [
        {
          "output_type": "stream",
          "text": [
            "\n",
            "0부터 시작해서 7번\n",
            " 0,1,2,3,4,5,6\n",
            "[0 0 0 0 1 0 0]\n",
            "[1 0 1 0 0 0 0]\n",
            "[0 0 0 0 2 1 0]\n",
            "[2 1 3 1 0 0 0]\n",
            "[0 0 0 0 5 5 1]\n",
            "[ 5  5 10  6  0  0  0]\n",
            "[ 0  0  0  0 15 21  6]\n",
            "\n",
            "1부터 시작해서 7번\n",
            " 0,1,2,3,4,5,6\n",
            "[0 0 0 0 0 1 0]\n",
            "[0 1 1 1 0 0 0]\n",
            "[0 0 0 0 1 3 1]\n",
            "[1 3 4 4 0 0 0]\n",
            "[ 0  0  0  0  5 11  4]\n",
            "[ 5 11 16 15  0  0  0]\n",
            "[ 0  0  0  0 21 42 15]\n",
            "\n",
            "2부터 시작해서 7번\n",
            " 0,1,2,3,4,5,6\n",
            "[0 0 0 0 1 1 0]\n",
            "[1 1 2 1 0 0 0]\n",
            "[0 0 0 0 3 4 1]\n",
            "[3 4 7 5 0 0 0]\n",
            "[ 0  0  0  0 10 16  5]\n",
            "[10 16 26 21  0  0  0]\n",
            "[ 0  0  0  0 36 63 21]\n",
            "\n",
            "3부터 시작해서 7번\n",
            " 0,1,2,3,4,5,6\n",
            "[0 0 0 0 0 1 1]\n",
            "[0 1 1 2 0 0 0]\n",
            "[0 0 0 0 1 4 2]\n",
            "[1 4 5 6 0 0 0]\n",
            "[ 0  0  0  0  6 15  6]\n",
            "[ 6 15 21 21  0  0  0]\n",
            "[ 0  0  0  0 27 57 21]\n",
            "\n",
            "4부터 시작해서 7번\n",
            " 0,1,2,3,4,5,6\n",
            "[1 0 1 0 0 0 0]\n",
            "[0 0 0 0 2 1 0]\n",
            "[2 1 3 1 0 0 0]\n",
            "[0 0 0 0 5 5 1]\n",
            "[ 5  5 10  6  0  0  0]\n",
            "[ 0  0  0  0 15 21  6]\n",
            "[15 21 36 27  0  0  0]\n",
            "\n",
            "5부터 시작해서 7번\n",
            " 0,1,2,3,4,5,6\n",
            "[0 1 1 1 0 0 0]\n",
            "[0 0 0 0 1 3 1]\n",
            "[1 3 4 4 0 0 0]\n",
            "[ 0  0  0  0  5 11  4]\n",
            "[ 5 11 16 15  0  0  0]\n",
            "[ 0  0  0  0 21 42 15]\n",
            "[21 42 63 57  0  0  0]\n",
            "\n",
            "6부터 시작해서 7번\n",
            " 0,1,2,3,4,5,6\n",
            "[0 0 0 1 0 0 0]\n",
            "[0 0 0 0 0 1 1]\n",
            "[0 1 1 2 0 0 0]\n",
            "[0 0 0 0 1 4 2]\n",
            "[1 4 5 6 0 0 0]\n",
            "[ 0  0  0  0  6 15  6]\n",
            "[ 6 15 21 21  0  0  0]\n",
            "[[0 0 0 0 1 0 0]\n",
            " [0 0 0 0 0 1 0]\n",
            " [0 0 0 0 1 1 0]\n",
            " [0 0 0 0 0 1 1]\n",
            " [1 0 1 0 0 0 0]\n",
            " [0 1 1 1 0 0 0]\n",
            " [0 0 0 1 0 0 0]]\n"
          ],
          "name": "stdout"
        }
      ]
    },
    {
      "cell_type": "code",
      "metadata": {
        "id": "A7cwu0vuQdSx"
      },
      "source": [
        ""
      ],
      "execution_count": null,
      "outputs": []
    },
    {
      "cell_type": "code",
      "metadata": {
        "colab": {
          "base_uri": "https://localhost:8080/"
        },
        "id": "fkddK3W5N4Qt",
        "outputId": "7a9686ef-4bfb-4b7a-bc92-e3b4ac2608b8"
      },
      "source": [
        "import numpy as np\r\n",
        "t = [[2,5],[2,0],[3,2],[4,2],[2,1]]\r\n",
        "a = [[0 for i in range(6)] for i in range(6)]\r\n",
        "a = np.array(a)\r\n",
        "#print(a[5,1])\r\n",
        "for i in t:\r\n",
        "    a[i[0],i[1]] = 1\r\n",
        "    a[i[1],i[0]] = 1\r\n",
        "b = a\r\n",
        "\r\n",
        "#for i in range(4):\r\n",
        "#    print(a)\r\n",
        "#    a = np.dot(a,b)\r\n",
        "for k in range(0,6):\r\n",
        "    a = [[0 for i in range(6)] for i in range(6)]\r\n",
        "    a = np.array(a)\r\n",
        "    for i in t:\r\n",
        "        a[i[0],i[1]] = 1\r\n",
        "        a[i[1],i[0]] = 1\r\n",
        "    print('')\r\n",
        "    print(f'{k}부터 시작해서 7번')\r\n",
        "    print(' 0,1,2,3,4,5,6')\r\n",
        "    a = a[k,:]\r\n",
        "    for j in range(6):\r\n",
        "        print(a)\r\n",
        "        a = np.dot(a,b)\r\n",
        "print(b)"
      ],
      "execution_count": 239,
      "outputs": [
        {
          "output_type": "stream",
          "text": [
            "\n",
            "0부터 시작해서 7번\n",
            " 0,1,2,3,4,5,6\n",
            "[0 0 1 0 0 0]\n",
            "[1 1 0 1 1 1]\n",
            "[0 0 5 0 0 0]\n",
            "[5 5 0 5 5 5]\n",
            "[ 0  0 25  0  0  0]\n",
            "[25 25  0 25 25 25]\n",
            "\n",
            "1부터 시작해서 7번\n",
            " 0,1,2,3,4,5,6\n",
            "[0 0 1 0 0 0]\n",
            "[1 1 0 1 1 1]\n",
            "[0 0 5 0 0 0]\n",
            "[5 5 0 5 5 5]\n",
            "[ 0  0 25  0  0  0]\n",
            "[25 25  0 25 25 25]\n",
            "\n",
            "2부터 시작해서 7번\n",
            " 0,1,2,3,4,5,6\n",
            "[1 1 0 1 1 1]\n",
            "[0 0 5 0 0 0]\n",
            "[5 5 0 5 5 5]\n",
            "[ 0  0 25  0  0  0]\n",
            "[25 25  0 25 25 25]\n",
            "[  0   0 125   0   0   0]\n",
            "\n",
            "3부터 시작해서 7번\n",
            " 0,1,2,3,4,5,6\n",
            "[0 0 1 0 0 0]\n",
            "[1 1 0 1 1 1]\n",
            "[0 0 5 0 0 0]\n",
            "[5 5 0 5 5 5]\n",
            "[ 0  0 25  0  0  0]\n",
            "[25 25  0 25 25 25]\n",
            "\n",
            "4부터 시작해서 7번\n",
            " 0,1,2,3,4,5,6\n",
            "[0 0 1 0 0 0]\n",
            "[1 1 0 1 1 1]\n",
            "[0 0 5 0 0 0]\n",
            "[5 5 0 5 5 5]\n",
            "[ 0  0 25  0  0  0]\n",
            "[25 25  0 25 25 25]\n",
            "\n",
            "5부터 시작해서 7번\n",
            " 0,1,2,3,4,5,6\n",
            "[0 0 1 0 0 0]\n",
            "[1 1 0 1 1 1]\n",
            "[0 0 5 0 0 0]\n",
            "[5 5 0 5 5 5]\n",
            "[ 0  0 25  0  0  0]\n",
            "[25 25  0 25 25 25]\n",
            "[[0 0 1 0 0 0]\n",
            " [0 0 1 0 0 0]\n",
            " [1 1 0 1 1 1]\n",
            " [0 0 1 0 0 0]\n",
            " [0 0 1 0 0 0]\n",
            " [0 0 1 0 0 0]]\n"
          ],
          "name": "stdout"
        }
      ]
    },
    {
      "cell_type": "markdown",
      "metadata": {
        "id": "yuHUEEjNSkx9"
      },
      "source": [
        "다리 삭제버전"
      ]
    },
    {
      "cell_type": "code",
      "metadata": {
        "id": "lBRy-GKgSkte"
      },
      "source": [
        "import numpy as np\r\n",
        "t = [[2,5],[2,0],[3,2],[4,2],[2,1]]\r\n",
        "a = [[0 for i in range(6)] for i in range(6)]\r\n",
        "\r\n",
        "check = [0 for i in range(6)]\r\n",
        "a = np.array(a)\r\n",
        "#print(a[5,1])\r\n",
        "for i in t:\r\n",
        "    a[i[0],i[1]] = 1\r\n",
        "    a[i[1],i[0]] = 1\r\n",
        "b = a\r\n",
        "#for i in range(4):\r\n",
        "#    print(a)\r\n",
        "#    a = np.dot(a,b)\r\n",
        "for k in range(0,6):\r\n",
        "    a = [[0 for i in range(6)] for i in range(6)]\r\n",
        "    check = [0 for i in range(6)]\r\n",
        "    a = np.array(a)\r\n",
        "\r\n",
        "    for i in t:\r\n",
        "        a[i[0],i[1]] = 1\r\n",
        "        a[i[1],i[0]] = 1\r\n",
        "\r\n",
        "    b = a\r\n",
        "\r\n",
        "    print('')\r\n",
        "    print(f'{k}부터 시작해서 7번')\r\n",
        "    \r\n",
        "    print(' 0,1,2,3,4,5,6')\r\n",
        "    a = a[k,:]\r\n",
        "    check = [0 for i in range(6)]\r\n",
        "#    print(a)\r\n",
        "    for j in range(6):\r\n",
        "\r\n",
        "        for q in range(0,len(a)):\r\n",
        "            if a[q] != 0:\r\n",
        "                check[q] += int(a[q]/a[q])\r\n",
        "#        print(np.array(check))\r\n",
        "        for w in range(0,len(check)):\r\n",
        "            if check[w] == 2:\r\n",
        "                b[w,:] = 0\r\n",
        "                b[:,w] = 0\r\n",
        "        print(a,b)\r\n",
        "\r\n",
        "        a = np.dot(a,b)\r\n",
        "\r\n",
        "print(b)"
      ],
      "execution_count": null,
      "outputs": []
    },
    {
      "cell_type": "code",
      "metadata": {
        "colab": {
          "base_uri": "https://localhost:8080/"
        },
        "id": "SRKpnA6VUEvy",
        "outputId": "4f98e33e-ee6b-4ac8-f841-bc6811ff3b71"
      },
      "source": [
        "import numpy as np\r\n",
        "t = [[2,5],[2,0],[3,2],[4,2],[2,1]]\r\n",
        "a = [[0 for i in range(6)] for i in range(6)]\r\n",
        "check = [0 for i in range(6)]\r\n",
        "a = np.array(a)\r\n",
        "#print(a[5,1])\r\n",
        "for i in t:\r\n",
        "    a[i[0],i[1]] = 1\r\n",
        "    a[i[1],i[0]] = 1\r\n",
        "b = a\r\n",
        "b[2,:] = 0\r\n",
        "b[:,2] = 0\r\n",
        "b"
      ],
      "execution_count": 163,
      "outputs": [
        {
          "output_type": "execute_result",
          "data": {
            "text/plain": [
              "array([[0, 0, 0, 0, 0, 0],\n",
              "       [0, 0, 0, 0, 0, 0],\n",
              "       [0, 0, 0, 0, 0, 0],\n",
              "       [0, 0, 0, 0, 0, 0],\n",
              "       [0, 0, 0, 0, 0, 0],\n",
              "       [0, 0, 0, 0, 0, 0]])"
            ]
          },
          "metadata": {
            "tags": []
          },
          "execution_count": 163
        }
      ]
    },
    {
      "cell_type": "markdown",
      "metadata": {
        "id": "bervjM4LXMhG"
      },
      "source": [
        "정리하자"
      ]
    },
    {
      "cell_type": "code",
      "metadata": {
        "id": "nSoELTEqXMX6"
      },
      "source": [
        "import numpy as np\r\n",
        "t = [[2,5],[2,0],[3,2],[4,2],[2,1]]\r\n",
        "a = [[0 for i in range(6)] for i in range(6)]\r\n",
        "\r\n",
        "check = [[0 for i in range(6)] for i in range(6)]\r\n",
        "a = np.array(a)\r\n",
        "#print(a[5,1])\r\n",
        "for i in t:\r\n",
        "    a[i[0],i[1]] = 1\r\n",
        "    a[i[1],i[0]] = 1\r\n",
        "b = a\r\n",
        "#for i in range(4):\r\n",
        "#    print(a)\r\n",
        "#    a = np.dot(a,b)\r\n",
        "for k in range(0,6):\r\n",
        "    a = [[0 for i in range(6)] for i in range(6)]\r\n",
        "    check = [[0 for i in range(6)] for i in range(6)]\r\n",
        "    a = np.array(a)\r\n",
        "    check = np.array(check)\r\n",
        "    for i in t:\r\n",
        "        a[i[0],i[1]] = 1\r\n",
        "        a[i[1],i[0]] = 1\r\n",
        "\r\n",
        "    b = a\r\n",
        "#    print(check)\r\n",
        "    print('')\r\n",
        "    print(f'{k}부터 시작해서 7번')\r\n",
        "    \r\n",
        "    print(' 0,1,2,3,4,5,6')\r\n",
        "\r\n",
        "    for j in range(6):\r\n",
        "\r\n",
        "        for q in range(0,len(a)):\r\n",
        "            for q2 in range(0,len(a)):\r\n",
        "                if a[q,q2] != 0:\r\n",
        "                    check[q,q2] += a[q,q2]/a[q,q2]\r\n",
        "#        print(np.array(check))\r\n",
        "        for w in range(0,len(check)):\r\n",
        "#        for w2 in range(0,len(check)):\r\n",
        "            if 2 in check[w,:]:         # check[w,w2] == 2:\r\n",
        "                b[w,:] = 0\r\n",
        "                b[:,w] = 0\r\n",
        "#        print(check,'체크 \\n', a,'드럽게힘드네',b)   \r\n",
        "\r\n",
        "        a = np.dot(a,b)\r\n",
        "        print(a)\r\n",
        "print(b)"
      ],
      "execution_count": null,
      "outputs": []
    },
    {
      "cell_type": "code",
      "metadata": {
        "colab": {
          "base_uri": "https://localhost:8080/"
        },
        "id": "NegMVYKHauDq",
        "outputId": "2e99940b-206b-410f-db0e-52af03955c40"
      },
      "source": [
        "import numpy as np\r\n",
        "t = [[5,1],[2,5],[3,5],[3,6],[2,4],[4,0]]\r\n",
        "\r\n",
        "for k in range(0,7):\r\n",
        "    a = [[0 for i in range(7)] for i in range(7)]\r\n",
        "    a = np.array(a)\r\n",
        "    check = [0 for i in range(7)]\r\n",
        "    for i in t:\r\n",
        "        a[i[0],i[1]] = 1\r\n",
        "        a[i[1],i[0]] = 1\r\n",
        "    b = a\r\n",
        "\r\n",
        "\r\n",
        "    print('')\r\n",
        "    print(f'{k}부터 시작해서 7번')\r\n",
        "    print(' 0,1,2,3,4,5,6')\r\n",
        "    a = a[k,:]\r\n",
        "    for j in range(9):\r\n",
        "\r\n",
        "        for q in range(0,len(a)):\r\n",
        "            if a[q] != 0:\r\n",
        "                check[q] += a[q]/a[q]\r\n",
        "#        print(check)    \r\n",
        "        for w in range(0,len(check)):\r\n",
        "            if check[w] == 2:\r\n",
        "#            if 2 in check:         # check[w,w2] == 2:\r\n",
        "#                b[w,:] = 0\r\n",
        "                b[:,w] = 0\r\n",
        "\r\n",
        "        print(a)\r\n",
        "#        print(b)\r\n",
        "#        print(' ')\r\n",
        "#        print(f'{j+2}번째')\r\n",
        "\r\n",
        "        a = np.dot(a,b)\r\n"
      ],
      "execution_count": 272,
      "outputs": [
        {
          "output_type": "stream",
          "text": [
            "\n",
            "0부터 시작해서 7번\n",
            " 0,1,2,3,4,5,6\n",
            "[0 0 0 0 1 0 0]\n",
            "[1 0 1 0 0 0 0]\n",
            "[0 0 0 0 2 1 0]\n",
            "[2 1 3 1 0 0 0]\n",
            "[0 0 0 0 0 5 1]\n",
            "[0 5 0 6 0 0 0]\n",
            "[0 0 0 0 0 0 6]\n",
            "[0 0 0 0 0 0 0]\n",
            "[0 0 0 0 0 0 0]\n",
            "\n",
            "1부터 시작해서 7번\n",
            " 0,1,2,3,4,5,6\n",
            "[0 0 0 0 0 1 0]\n",
            "[0 1 1 1 0 0 0]\n",
            "[0 0 0 0 1 3 1]\n",
            "[1 3 4 4 0 0 0]\n",
            "[0 0 0 0 5 0 4]\n",
            "[5 0 0 0 0 0 0]\n",
            "[0 0 0 0 0 0 0]\n",
            "[0 0 0 0 0 0 0]\n",
            "[0 0 0 0 0 0 0]\n",
            "\n",
            "2부터 시작해서 7번\n",
            " 0,1,2,3,4,5,6\n",
            "[0 0 0 0 1 1 0]\n",
            "[1 1 2 1 0 0 0]\n",
            "[0 0 0 0 3 4 1]\n",
            "[3 4 7 5 0 0 0]\n",
            "[0 0 0 0 0 0 5]\n",
            "[0 0 0 0 0 0 0]\n",
            "[0 0 0 0 0 0 0]\n",
            "[0 0 0 0 0 0 0]\n",
            "[0 0 0 0 0 0 0]\n",
            "\n",
            "3부터 시작해서 7번\n",
            " 0,1,2,3,4,5,6\n",
            "[0 0 0 0 0 1 1]\n",
            "[0 1 1 2 0 0 0]\n",
            "[0 0 0 0 1 4 2]\n",
            "[1 4 5 6 0 0 0]\n",
            "[0 0 0 0 6 0 0]\n",
            "[6 0 0 0 0 0 0]\n",
            "[0 0 0 0 0 0 0]\n",
            "[0 0 0 0 0 0 0]\n",
            "[0 0 0 0 0 0 0]\n",
            "\n",
            "4부터 시작해서 7번\n",
            " 0,1,2,3,4,5,6\n",
            "[1 0 1 0 0 0 0]\n",
            "[0 0 0 0 2 1 0]\n",
            "[2 1 3 1 0 0 0]\n",
            "[0 0 0 0 5 5 1]\n",
            "[0 5 0 6 0 0 0]\n",
            "[0 0 0 0 0 0 6]\n",
            "[0 0 0 0 0 0 0]\n",
            "[0 0 0 0 0 0 0]\n",
            "[0 0 0 0 0 0 0]\n",
            "\n",
            "5부터 시작해서 7번\n",
            " 0,1,2,3,4,5,6\n",
            "[0 1 1 1 0 0 0]\n",
            "[0 0 0 0 1 3 1]\n",
            "[1 3 4 4 0 0 0]\n",
            "[ 0  0  0  0  5 11  4]\n",
            "[5 0 0 0 0 0 0]\n",
            "[0 0 0 0 0 0 0]\n",
            "[0 0 0 0 0 0 0]\n",
            "[0 0 0 0 0 0 0]\n",
            "[0 0 0 0 0 0 0]\n",
            "\n",
            "6부터 시작해서 7번\n",
            " 0,1,2,3,4,5,6\n",
            "[0 0 0 1 0 0 0]\n",
            "[0 0 0 0 0 1 1]\n",
            "[0 1 1 2 0 0 0]\n",
            "[0 0 0 0 1 4 2]\n",
            "[1 4 5 0 0 0 0]\n",
            "[0 0 0 0 6 0 0]\n",
            "[6 0 0 0 0 0 0]\n",
            "[0 0 0 0 0 0 0]\n",
            "[0 0 0 0 0 0 0]\n"
          ],
          "name": "stdout"
        }
      ]
    },
    {
      "cell_type": "code",
      "metadata": {
        "colab": {
          "base_uri": "https://localhost:8080/"
        },
        "id": "Nktok6Dmcfme",
        "outputId": "d3d9d3bc-e5e4-4c32-a8ba-30378b42ee70"
      },
      "source": [
        "t = [[5,1],[2,5],[3,5],[3,6],[2,4],[4,0]]\r\n",
        "a = [[0 for i in range(7)] for i in range(7)]\r\n",
        "a = np.array(a)\r\n",
        "for i in t:\r\n",
        "    a[i[0],i[1]] = 1\r\n",
        "    a[i[1],i[0]] = 1\r\n",
        "print(a)\r\n",
        "print(a[2,:])"
      ],
      "execution_count": 256,
      "outputs": [
        {
          "output_type": "stream",
          "text": [
            "[[0 0 0 0 1 0 0]\n",
            " [0 0 0 0 0 1 0]\n",
            " [0 0 0 0 1 1 0]\n",
            " [0 0 0 0 0 1 1]\n",
            " [1 0 1 0 0 0 0]\n",
            " [0 1 1 1 0 0 0]\n",
            " [0 0 0 1 0 0 0]]\n",
            "[0 0 0 0 1 1 0]\n"
          ],
          "name": "stdout"
        }
      ]
    },
    {
      "cell_type": "markdown",
      "metadata": {
        "id": "VE9vgasqgbHe"
      },
      "source": [
        "1차답안 # 실패! 모든 경로를 1번은 거쳐야 한다."
      ]
    },
    {
      "cell_type": "code",
      "metadata": {
        "colab": {
          "base_uri": "https://localhost:8080/"
        },
        "id": "ARvgBoZgemM6",
        "outputId": "52e64d4e-9318-43e4-81cc-18e5a03c5286"
      },
      "source": [
        "import numpy as np\r\n",
        "def solution(t):\r\n",
        "    t1 = []\r\n",
        "    cnt_list = []\r\n",
        "    cnt = 0\r\n",
        "    for q in range(len(t)):\r\n",
        "        for q2 in t[q]:\r\n",
        "            t1.append(q2)\r\n",
        "    num1 = max(t1)\r\n",
        "\r\n",
        "\r\n",
        "    for k in range(0,num1+1):\r\n",
        "        a = [[0 for i in range(num1+1)] for i in range(num1+1)]\r\n",
        "        a = np.array(a)\r\n",
        "        check = [0 for i in range(num1+1)]\r\n",
        "        for i in t:\r\n",
        "            a[i[0],i[1]] = 1\r\n",
        "            a[i[1],i[0]] = 1\r\n",
        "        b = a\r\n",
        "\r\n",
        "        a = a[k,:]\r\n",
        "        cnt_list.append(cnt)\r\n",
        "        cnt = 0\r\n",
        "\r\n",
        "        \r\n",
        "        for j in range((num1+1)*2):\r\n",
        "\r\n",
        "            for q in range(0,len(a)):\r\n",
        "                if a[q] != 0:\r\n",
        "                    check[q] += a[q]/a[q]\r\n",
        "\r\n",
        "            for w in range(0,len(check)):\r\n",
        "                if check[w] == 2:\r\n",
        "\r\n",
        "                    b[:,w] = 0\r\n",
        "\r\n",
        "            if sum(a) != 0:\r\n",
        "                cnt += 1\r\n",
        "            else:\r\n",
        "                break\r\n",
        "            a = np.dot(a,b)\r\n",
        "    return max(cnt_list)\r\n",
        "\r\n",
        "#t = [[5,1],[2,5],[3,5],[3,6],[2,4],[4,0]]\r\n",
        "t = [[2,5],[2,0],[3,2],[4,2],[2,1]]\r\n",
        "solution(t)\r\n"
      ],
      "execution_count": 315,
      "outputs": [
        {
          "output_type": "execute_result",
          "data": {
            "text/plain": [
              "4"
            ]
          },
          "metadata": {
            "tags": []
          },
          "execution_count": 315
        }
      ]
    },
    {
      "cell_type": "code",
      "metadata": {
        "colab": {
          "base_uri": "https://localhost:8080/"
        },
        "id": "4JygTEAYeq8a",
        "outputId": "978211ba-4ff6-489e-ec5b-22d660b2c292"
      },
      "source": [
        "t = [[5,1],[2,5],[3,5],[3,6],[2,4],[4,0]]\r\n",
        "t1 = []\r\n",
        "cnt_list = []\r\n",
        "\r\n",
        "for q in range(len(t)):\r\n",
        "    for q2 in t[q]:\r\n",
        "        t1.append(q2)\r\n",
        "num1 = max(t1)\r\n",
        "\r\n",
        "\r\n",
        "for k in range(0,num1+1):\r\n",
        "    a = [[0 for i in range(num1+1)] for i in range(num1+1)]\r\n",
        "    a = np.array(a)\r\n",
        "    check = [0 for i in range(num1+1)]\r\n",
        "    for i in t:\r\n",
        "        a[i[0],i[1]] = 1\r\n",
        "        a[i[1],i[0]] = 1\r\n",
        "    b = a\r\n",
        "\r\n",
        "    a = a[k,:]\r\n",
        "    cnt_list.append(cnt)\r\n",
        "\r\n",
        "    cnt = 0\r\n",
        "    \r\n",
        "    for j in range((num1+1)*2):\r\n",
        "\r\n",
        "        for q in range(0,len(a)):\r\n",
        "            if a[q] != 0:\r\n",
        "                check[q] += a[q]/a[q]\r\n",
        "\r\n",
        "        for w in range(0,len(check)):\r\n",
        "            if check[w] == 2:\r\n",
        "\r\n",
        "                b[:,w] = 0\r\n",
        "\r\n",
        "        if sum(a) != 0:\r\n",
        "            cnt += 1\r\n",
        "        else:\r\n",
        "            break\r\n",
        "        a = np.dot(a,b)\r\n",
        "cnt_list"
      ],
      "execution_count": 312,
      "outputs": [
        {
          "output_type": "stream",
          "text": [
            "[0 0 0 0 1 0 0] [[0 0 0 0 1 0 0]\n",
            " [0 0 0 0 0 1 0]\n",
            " [0 0 0 0 1 1 0]\n",
            " [0 0 0 0 0 1 1]\n",
            " [1 0 1 0 0 0 0]\n",
            " [0 1 1 1 0 0 0]\n",
            " [0 0 0 1 0 0 0]]\n",
            "[0 0 0 0 0 1 0] [[0 0 0 0 1 0 0]\n",
            " [0 0 0 0 0 1 0]\n",
            " [0 0 0 0 1 1 0]\n",
            " [0 0 0 0 0 1 1]\n",
            " [1 0 1 0 0 0 0]\n",
            " [0 1 1 1 0 0 0]\n",
            " [0 0 0 1 0 0 0]]\n",
            "[0 0 0 0 1 1 0] [[0 0 0 0 1 0 0]\n",
            " [0 0 0 0 0 1 0]\n",
            " [0 0 0 0 1 1 0]\n",
            " [0 0 0 0 0 1 1]\n",
            " [1 0 1 0 0 0 0]\n",
            " [0 1 1 1 0 0 0]\n",
            " [0 0 0 1 0 0 0]]\n",
            "[0 0 0 0 0 1 1] [[0 0 0 0 1 0 0]\n",
            " [0 0 0 0 0 1 0]\n",
            " [0 0 0 0 1 1 0]\n",
            " [0 0 0 0 0 1 1]\n",
            " [1 0 1 0 0 0 0]\n",
            " [0 1 1 1 0 0 0]\n",
            " [0 0 0 1 0 0 0]]\n",
            "[1 0 1 0 0 0 0] [[0 0 0 0 1 0 0]\n",
            " [0 0 0 0 0 1 0]\n",
            " [0 0 0 0 1 1 0]\n",
            " [0 0 0 0 0 1 1]\n",
            " [1 0 1 0 0 0 0]\n",
            " [0 1 1 1 0 0 0]\n",
            " [0 0 0 1 0 0 0]]\n",
            "[0 1 1 1 0 0 0] [[0 0 0 0 1 0 0]\n",
            " [0 0 0 0 0 1 0]\n",
            " [0 0 0 0 1 1 0]\n",
            " [0 0 0 0 0 1 1]\n",
            " [1 0 1 0 0 0 0]\n",
            " [0 1 1 1 0 0 0]\n",
            " [0 0 0 1 0 0 0]]\n",
            "[0 0 0 1 0 0 0] [[0 0 0 0 1 0 0]\n",
            " [0 0 0 0 0 1 0]\n",
            " [0 0 0 0 1 1 0]\n",
            " [0 0 0 0 0 1 1]\n",
            " [1 0 1 0 0 0 0]\n",
            " [0 1 1 1 0 0 0]\n",
            " [0 0 0 1 0 0 0]]\n"
          ],
          "name": "stdout"
        },
        {
          "output_type": "execute_result",
          "data": {
            "text/plain": [
              "[0, 0, 0, 0, 0, 0, 0]"
            ]
          },
          "metadata": {
            "tags": []
          },
          "execution_count": 312
        }
      ]
    },
    {
      "cell_type": "code",
      "metadata": {
        "id": "ExmwhEu2eyoo"
      },
      "source": [
        ""
      ],
      "execution_count": null,
      "outputs": []
    }
  ]
}