{
  "nbformat": 4,
  "nbformat_minor": 0,
  "metadata": {
    "colab": {
      "name": "입국심사(ing).ipynb",
      "provenance": [],
      "authorship_tag": "ABX9TyMTA6JIHjGC6x6nMx77Zbhm",
      "include_colab_link": true
    },
    "kernelspec": {
      "name": "python3",
      "display_name": "Python 3"
    }
  },
  "cells": [
    {
      "cell_type": "markdown",
      "metadata": {
        "id": "view-in-github",
        "colab_type": "text"
      },
      "source": [
        "<a href=\"https://colab.research.google.com/github/HKyeol/team_study/blob/main/%EC%9E%85%EA%B5%AD%EC%8B%AC%EC%82%AC(ing).ipynb\" target=\"_parent\"><img src=\"https://colab.research.google.com/assets/colab-badge.svg\" alt=\"Open In Colab\"/></a>"
      ]
    },
    {
      "cell_type": "markdown",
      "metadata": {
        "id": "ZuSF1lh4jViy"
      },
      "source": [
        "```\r\n",
        "def solution(n, times):\r\n",
        "    answer = 0\r\n",
        "    return answer\r\n",
        "9\r\n",
        "\r\n",
        "0 7 14 21 28\r\n",
        "0  10 20   30\r\n",
        "```"
      ]
    },
    {
      "cell_type": "code",
      "metadata": {
        "id": "bxRQEaOzjSZ2"
      },
      "source": [
        "def solution(n, times):\r\n",
        "    a = [i for i in times]\r\n",
        "    b = [i*2 for i in times]\r\n",
        "    n -= len(times)\r\n",
        "    indext = b.index(min(b))\r\n",
        "\r\n",
        "    while n != 0:   \r\n",
        "        times[b.index(min(b))] += a[b.index(min(b))]\r\n",
        "        b[b.index(min(b))] += a[b.index(min(b))]\r\n",
        "        print(times)\r\n",
        "        n -= 1\r\n",
        "    i = 0\r\n",
        "    while i != len(times)-1:\r\n",
        "        if a[i] == times[i]:\r\n",
        "            del times[i], a[i]\r\n",
        "        else:\r\n",
        "            i += 1\r\n",
        "    answer = max(times)\r\n",
        "    return answer\r\n",
        "\r\n",
        "#solution(9, [7,10])\r\n",
        "#solution(100, [7,10,13])\r\n",
        "solution(30, [7,10,11,3,24,15,782,14,26,321,4])"
      ],
      "execution_count": null,
      "outputs": []
    },
    {
      "cell_type": "markdown",
      "metadata": {
        "id": "vwCwe-esyFZj"
      },
      "source": [
        "max min이 문제인 것 같다"
      ]
    },
    {
      "cell_type": "code",
      "metadata": {
        "colab": {
          "base_uri": "https://localhost:8080/"
        },
        "id": "ZzRfD_Ysnx7h",
        "outputId": "c69316f7-8385-4f16-a855-344ed42d0dba"
      },
      "source": [
        "def solution(n, times):\r\n",
        "    times.sort()\r\n",
        "    for i in range(len(times)):\r\n",
        "        if n*times[0] < times[i]:\r\n",
        "            times = times[:i]\r\n",
        "            break\r\n",
        "    a = [i for i in times]\r\n",
        "    n -= len(times)\r\n",
        "\r\n",
        "    while n != 0:\r\n",
        "        ld = 0 # loop end\r\n",
        "        while True:\r\n",
        "            if ld == len(times)-1:\r\n",
        "                break\r\n",
        "            if times[ld]+a[ld] > times[ld+1]+a[ld+1]:\r\n",
        "                times[ld],times[ld+1] = times[ld+1],times[ld]\r\n",
        "                a[ld],a[ld+1] = a[ld+1],a[ld]\r\n",
        "                ld += 1\r\n",
        "            else:\r\n",
        "                break\r\n",
        "\r\n",
        "        times[0] += a[0]\r\n",
        "#        print(times)\r\n",
        "        n -= 1\r\n",
        "    for i in range(len(times)-1,0,-1):\r\n",
        "        if times[i] != a[i]:\r\n",
        "            times = times[:i+1]\r\n",
        "            break\r\n",
        "\r\n",
        "    answer = times[0]\r\n",
        "    return answer\r\n",
        "#solution(50, [7,10,11,3,24,15,782,14,26,321,4])\r\n",
        "#solution(9, [7,10])\r\n",
        "solution(3,[1])"
      ],
      "execution_count": 183,
      "outputs": [
        {
          "output_type": "execute_result",
          "data": {
            "text/plain": [
              "3"
            ]
          },
          "metadata": {
            "tags": []
          },
          "execution_count": 183
        }
      ]
    },
    {
      "cell_type": "code",
      "metadata": {
        "colab": {
          "base_uri": "https://localhost:8080/"
        },
        "id": "MAXC5SQIC_Xu",
        "outputId": "2bd48ddf-36c6-41a6-e1c0-d912f233ce75"
      },
      "source": [
        "def solution(n, times):\r\n",
        "    times.sort()\r\n",
        "    a = [i for i in times]\r\n",
        "    b = []\r\n",
        "    b.append(times[0])\r\n",
        "    n -= 1\r\n",
        "#    print(b)\r\n",
        "    for i in range(n):\r\n",
        "        c = []\r\n",
        "        for k in b:\r\n",
        "            c.append(k + a[b.index(k)])\r\n",
        "        minb = c.index(min(c))\r\n",
        "#        print(minb)\r\n",
        "        if len(b) != len(times):\r\n",
        "            if b[minb]+a[minb] > times[len(b)]:\r\n",
        "                b.append(times[len(b)])\r\n",
        "                n -= 1\r\n",
        "            elif b[minb]+a[minb] == times[len(b)]:\r\n",
        "                b.append(times[len(b)])\r\n",
        "                n -= 1\r\n",
        "            else:\r\n",
        "                indext = b.index(b[minb])\r\n",
        "                b[indext] += a[indext]\r\n",
        "                n -= 1\r\n",
        "        else:\r\n",
        "            indext = b.index(b[minb])\r\n",
        "            b[indext] += a[indext]\r\n",
        "            n -= 1\r\n",
        " #       print(b,n)\r\n",
        "\r\n",
        "    answer = max(b)\r\n",
        "    return answer\r\n",
        "\r\n",
        "#solution(10,[1,2,3,4,5])\r\n",
        "solution(10,[3,3,3,3,3])"
      ],
      "execution_count": 296,
      "outputs": [
        {
          "output_type": "stream",
          "text": [
            "[3]\n"
          ],
          "name": "stdout"
        },
        {
          "output_type": "execute_result",
          "data": {
            "text/plain": [
              "6"
            ]
          },
          "metadata": {
            "tags": []
          },
          "execution_count": 296
        }
      ]
    },
    {
      "cell_type": "code",
      "metadata": {
        "colab": {
          "base_uri": "https://localhost:8080/"
        },
        "id": "xjduRpbMHAJe",
        "outputId": "7cd2db9d-2cbc-4d19-ba9c-eb334f5d17f0"
      },
      "source": [
        "def solution(n, times):\r\n",
        "    times.sort()\r\n",
        "    for i in range(len(times)):\r\n",
        "        \r\n",
        "    return result\r\n",
        "solution(11,[1,2,3,4,5])"
      ],
      "execution_count": 304,
      "outputs": [
        {
          "output_type": "stream",
          "text": [
            "6\n"
          ],
          "name": "stdout"
        },
        {
          "output_type": "execute_result",
          "data": {
            "text/plain": [
              "11"
            ]
          },
          "metadata": {
            "tags": []
          },
          "execution_count": 304
        }
      ]
    }
  ]
}