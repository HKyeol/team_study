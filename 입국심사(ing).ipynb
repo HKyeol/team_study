{
  "nbformat": 4,
  "nbformat_minor": 0,
  "metadata": {
    "colab": {
      "name": "입국심사(ing).ipynb",
      "provenance": [],
      "authorship_tag": "ABX9TyMAR1sblQz1s/aNbOAapGtq",
      "include_colab_link": true
    },
    "kernelspec": {
      "name": "python3",
      "display_name": "Python 3"
    }
  },
  "cells": [
    {
      "cell_type": "markdown",
      "metadata": {
        "id": "view-in-github",
        "colab_type": "text"
      },
      "source": [
        "<a href=\"https://colab.research.google.com/github/HKyeol/team_study/blob/main/%EC%9E%85%EA%B5%AD%EC%8B%AC%EC%82%AC(ing).ipynb\" target=\"_parent\"><img src=\"https://colab.research.google.com/assets/colab-badge.svg\" alt=\"Open In Colab\"/></a>"
      ]
    },
    {
      "cell_type": "markdown",
      "metadata": {
        "id": "ZuSF1lh4jViy"
      },
      "source": [
        "```\r\n",
        "def solution(n, times):\r\n",
        "    answer = 0\r\n",
        "    return answer\r\n",
        "9\r\n",
        "\r\n",
        "0 7 14 21 28\r\n",
        "0  10 20   30\r\n",
        "```"
      ]
    },
    {
      "cell_type": "code",
      "metadata": {
        "id": "bxRQEaOzjSZ2"
      },
      "source": [
        "def solution(n, times):\r\n",
        "    a = [i for i in times]\r\n",
        "    b = [i*2 for i in times]\r\n",
        "    n -= len(times)\r\n",
        "    indext = b.index(min(b))\r\n",
        "\r\n",
        "    while n != 0:   \r\n",
        "        times[b.index(min(b))] += a[b.index(min(b))]\r\n",
        "        b[b.index(min(b))] += a[b.index(min(b))]\r\n",
        "        print(times)\r\n",
        "        n -= 1\r\n",
        "    i = 0\r\n",
        "    while i != len(times)-1:\r\n",
        "        if a[i] == times[i]:\r\n",
        "            del times[i], a[i]\r\n",
        "        else:\r\n",
        "            i += 1\r\n",
        "    answer = max(times)\r\n",
        "    return answer\r\n",
        "\r\n",
        "#solution(9, [7,10])\r\n",
        "#solution(100, [7,10,13])\r\n",
        "solution(30, [7,10,11,3,24,15,782,14,26,321,4])"
      ],
      "execution_count": null,
      "outputs": []
    },
    {
      "cell_type": "markdown",
      "metadata": {
        "id": "vwCwe-esyFZj"
      },
      "source": [
        "max min이 문제인 것 같다"
      ]
    },
    {
      "cell_type": "code",
      "metadata": {
        "colab": {
          "base_uri": "https://localhost:8080/"
        },
        "id": "ZzRfD_Ysnx7h",
        "outputId": "c69316f7-8385-4f16-a855-344ed42d0dba"
      },
      "source": [
        "def solution(n, times):\r\n",
        "    times.sort()\r\n",
        "    for i in range(len(times)):\r\n",
        "        if n*times[0] < times[i]:\r\n",
        "            times = times[:i]\r\n",
        "            break\r\n",
        "    a = [i for i in times]\r\n",
        "    n -= len(times)\r\n",
        "\r\n",
        "    while n != 0:\r\n",
        "        ld = 0 # loop end\r\n",
        "        while True:\r\n",
        "            if ld == len(times)-1:\r\n",
        "                break\r\n",
        "            if times[ld]+a[ld] > times[ld+1]+a[ld+1]:\r\n",
        "                times[ld],times[ld+1] = times[ld+1],times[ld]\r\n",
        "                a[ld],a[ld+1] = a[ld+1],a[ld]\r\n",
        "                ld += 1\r\n",
        "            else:\r\n",
        "                break\r\n",
        "\r\n",
        "        times[0] += a[0]\r\n",
        "#        print(times)\r\n",
        "        n -= 1\r\n",
        "    for i in range(len(times)-1,0,-1):\r\n",
        "        if times[i] != a[i]:\r\n",
        "            times = times[:i+1]\r\n",
        "            break\r\n",
        "\r\n",
        "    answer = times[0]\r\n",
        "    return answer\r\n",
        "#solution(50, [7,10,11,3,24,15,782,14,26,321,4])\r\n",
        "#solution(9, [7,10])\r\n",
        "solution(3,[1])"
      ],
      "execution_count": null,
      "outputs": [
        {
          "output_type": "execute_result",
          "data": {
            "text/plain": [
              "3"
            ]
          },
          "metadata": {
            "tags": []
          },
          "execution_count": 183
        }
      ]
    },
    {
      "cell_type": "code",
      "metadata": {
        "colab": {
          "base_uri": "https://localhost:8080/"
        },
        "id": "MAXC5SQIC_Xu",
        "outputId": "2bd48ddf-36c6-41a6-e1c0-d912f233ce75"
      },
      "source": [
        "def solution(n, times):\r\n",
        "    times.sort()\r\n",
        "    a = [i for i in times]\r\n",
        "    b = []\r\n",
        "    b.append(times[0])\r\n",
        "    n -= 1\r\n",
        "#    print(b)\r\n",
        "    for i in range(n):\r\n",
        "        c = []\r\n",
        "        for k in b:\r\n",
        "            c.append(k + a[b.index(k)])\r\n",
        "        minb = c.index(min(c))\r\n",
        "#        print(minb)\r\n",
        "        if len(b) != len(times):\r\n",
        "            if b[minb]+a[minb] > times[len(b)]:\r\n",
        "                b.append(times[len(b)])\r\n",
        "                n -= 1\r\n",
        "            elif b[minb]+a[minb] == times[len(b)]:\r\n",
        "                b.append(times[len(b)])\r\n",
        "                n -= 1\r\n",
        "            else:\r\n",
        "                indext = b.index(b[minb])\r\n",
        "                b[indext] += a[indext]\r\n",
        "                n -= 1\r\n",
        "        else:\r\n",
        "            indext = b.index(b[minb])\r\n",
        "            b[indext] += a[indext]\r\n",
        "            n -= 1\r\n",
        " #       print(b,n)\r\n",
        "\r\n",
        "    answer = max(b)\r\n",
        "    return answer\r\n",
        "\r\n",
        "#solution(10,[1,2,3,4,5])\r\n",
        "solution(10,[3,3,3,3,3])"
      ],
      "execution_count": null,
      "outputs": [
        {
          "output_type": "stream",
          "text": [
            "[3]\n"
          ],
          "name": "stdout"
        },
        {
          "output_type": "execute_result",
          "data": {
            "text/plain": [
              "6"
            ]
          },
          "metadata": {
            "tags": []
          },
          "execution_count": 296
        }
      ]
    },
    {
      "cell_type": "code",
      "metadata": {
        "colab": {
          "base_uri": "https://localhost:8080/"
        },
        "id": "xjduRpbMHAJe",
        "outputId": "d7a5bd58-aa88-4f4c-ff3a-5bcbc17e2430"
      },
      "source": [
        "def solution(n, times):\r\n",
        "    times.sort() # [1,2,3,4,5]\r\n",
        "    a = [0 for i in times]\r\n",
        "    b = [0 for i in times]\r\n",
        "\r\n",
        "    for i in range(0,len(times)):\r\n",
        "        b[i] = times[i]/times[0]\r\n",
        "    a[0] += b[0]*n\r\n",
        "    print(a,b)\r\n",
        "    a[0] -= b[0]* (a[0]/2*times[0])\r\n",
        "    a[1] += b[1]*n/2   \r\n",
        "    print(a,b)\r\n",
        "    a[0] -= b[0]* (2*a[0]/3*times[0])\r\n",
        "    a[1] -= b[1]*2*(n/3)\r\n",
        "    a[2] += b[2]*2*(n/3)\r\n",
        "    print(a,b)\r\n",
        "\r\n",
        "\r\n",
        "#solution(9,[3,3,3,3,3])\r\n",
        "#solution(10,[1,2,3,4,5])\r\n",
        "solution(20,[2,3,6,7,9])"
      ],
      "execution_count": 140,
      "outputs": [
        {
          "output_type": "stream",
          "text": [
            "[20.0, 0, 0, 0, 0] [1.0, 1.5, 3.0, 3.5, 4.5]\n",
            "[0.0, 15.0, 0, 0, 0] [1.0, 1.5, 3.0, 3.5, 4.5]\n",
            "[0.0, -5.0, 40.0, 0, 0] [1.0, 1.5, 3.0, 3.5, 4.5]\n"
          ],
          "name": "stdout"
        }
      ]
    },
    {
      "cell_type": "markdown",
      "metadata": {
        "id": "5_62AWSw_rak"
      },
      "source": [
        "```\r\n",
        "1. 심사대는 비어있다.\r\n",
        "2. 빨리 끝나는 심사대로 가서 심사를 받는다. \r\n",
        "    = 끝나는 시간을 비교한다.\r\n",
        "3. 시간을 최소화 할 것이다.\r\n",
        "\r\n",
        "\r\n",
        "\r\n",
        "심사관 숫자 = len(times)\r\n",
        "sort()하면 len(times)만큼 읽음\r\n",
        "복사해도 len(times)만큼 읽음\r\n",
        "계산을 다 해놓고 한번에 쌓을까? 그럼 줄일거 같은데\r\n",
        "합이 절반보다 적으면 절반좌쪽으로 쌓으면 되고\r\n",
        "```\r\n",
        "\r\n"
      ]
    },
    {
      "cell_type": "code",
      "metadata": {
        "colab": {
          "base_uri": "https://localhost:8080/"
        },
        "id": "m5lILBEdq8hv",
        "outputId": "9d6c154f-6776-4912-c158-0872f7d8c7a7"
      },
      "source": [
        "def solution(n, times):\r\n",
        "    times.sort()\r\n",
        "    while True:\r\n",
        "        if n*times[0] < times[-1]:\r\n",
        "            del times[-1]\r\n",
        "        else:\r\n",
        "            break\r\n",
        "    print(times)\r\n",
        "\r\n",
        "    ti = len(times)\r\n",
        "    a = [0 for i in times]\r\n",
        "    b = [0 for i in times]\r\n",
        "    c = []\r\n",
        "\r\n",
        "\r\n",
        "    cnt = 0\r\n",
        "    k = 0\r\n",
        "    while True:\r\n",
        "        k += 1 # 누적횟수\r\n",
        "        for i in range(0,ti):\r\n",
        "            cnt += (k*times[-1]//times[i])\r\n",
        "        if n < cnt:\r\n",
        "            k -= 1\r\n",
        "            break\r\n",
        "\r\n",
        "    if k != 0:\r\n",
        "        for i in range(0,ti): # k+1바퀴째에 멈춘다.\r\n",
        "            b[i] += (k*times[-1]//times[i])\r\n",
        "            a[i] = b[i]*times[i]\r\n",
        "        n -= sum(b)\r\n",
        "\r\n",
        "#    print(a,b)\r\n",
        "#    print('한바퀴를 못 돈다') # 여기를 k바퀴 돌리고 남은거랑 같이 돌리자\r\n",
        "    c = [a[i]+times[i] for i in range(0,ti)]\r\n",
        "#    print(c)\r\n",
        "    while n != 0:\r\n",
        "        c_in = c.index(min(c))\r\n",
        "        t_in = times[c_in]\r\n",
        "        a[c_in]+= t_in\r\n",
        "        c[c_in]+= t_in # c_in = c.index(min(c)) c 최저값 좌표\r\n",
        "        n -= 1\r\n",
        "\r\n",
        "\r\n",
        "    answer = [a,b,c]\r\n",
        "    return answer\r\n",
        "\r\n",
        "def sort_a(a, times): # 재귀함수를 하나 만들자. 실패했다.\r\n",
        "    if a[i] + times[i] < a[i+1] + times[i+1]: # 앞자리 끝나는 시간이 뒷자리보다 작으면 자리바꿀 필요가 없지\r\n",
        "        a[i] = a[i] + times[i]\r\n",
        "    return a\r\n",
        "\r\n",
        "print(solution(50,[1,2,3,4,5,55]))\r\n"
      ],
      "execution_count": 156,
      "outputs": [
        {
          "output_type": "stream",
          "text": [
            "[1, 2, 3, 4, 5]\n",
            "[[23, 22, 21, 20, 20], [10, 5, 3, 2, 2], [24, 24, 24, 24, 25]]\n"
          ],
          "name": "stdout"
        }
      ]
    },
    {
      "cell_type": "code",
      "metadata": {
        "colab": {
          "base_uri": "https://localhost:8080/",
          "height": 134
        },
        "id": "B2QdFvL64QqH",
        "outputId": "23add9b9-4e61-4984-ec0a-7247a7a38524"
      },
      "source": [
        "a = 0\r\n",
        "c = 0\r\n",
        "a,c += 1,1\r\n",
        "a"
      ],
      "execution_count": 145,
      "outputs": [
        {
          "output_type": "error",
          "ename": "SyntaxError",
          "evalue": "ignored",
          "traceback": [
            "\u001b[0;36m  File \u001b[0;32m\"<ipython-input-145-a21230d509e0>\"\u001b[0;36m, line \u001b[0;32m3\u001b[0m\n\u001b[0;31m    a,c += 1,1\u001b[0m\n\u001b[0m              ^\u001b[0m\n\u001b[0;31mSyntaxError\u001b[0m\u001b[0;31m:\u001b[0m illegal expression for augmented assignment\n"
          ]
        }
      ]
    },
    {
      "cell_type": "markdown",
      "metadata": {
        "id": "Ggrb5uu9wNaN"
      },
      "source": [
        "n = wt0+w1t1+w2t2+w3t3+w4t4+w5t5\r\n"
      ]
    },
    {
      "cell_type": "code",
      "metadata": {
        "colab": {
          "base_uri": "https://localhost:8080/"
        },
        "id": "QPqFuoR2fBiy",
        "outputId": "ec4f332e-a145-41e3-8058-2946d101753d"
      },
      "source": [
        "def solution(n, times):\r\n",
        "    times.sort()\r\n",
        "    a = [0 for i in times]\r\n",
        "    b = [0 for i in times]\r\n",
        "\r\n",
        "    cnt = 0\r\n",
        "    k = 0\r\n",
        "    while True:\r\n",
        "        k += 1 # 누적횟수\r\n",
        "        for i in range(0,len(times)):\r\n",
        "            cnt += (k*times[-1]//times[i])\r\n",
        "        if n < cnt:\r\n",
        "            k -= 1\r\n",
        "            break\r\n",
        "\r\n",
        "    if k != 0:\r\n",
        "        for i in range(0,len(times)): # k+1바퀴째에 멈춘다.\r\n",
        "            b[i] += (k*times[-1]//times[i])\r\n",
        "            a[i] = b[i]*times[i]\r\n",
        "        n -= sum(b)\r\n",
        "\r\n",
        "    b = [a[i]+times[i] for i in range(0,len(times))]\r\n",
        "    while n != 0:\r\n",
        "        a[b.index(min(b))]+=times[b.index(min(b))]\r\n",
        "        b[b.index(min(b))]+=times[b.index(min(b))] # c.index(min(c)) c 최저값 좌표\r\n",
        "        n -= 1\r\n",
        "\r\n",
        "    answer = max(a)\r\n",
        "    return answer\r\n",
        "\r\n",
        "def sort_a(a, times):\r\n",
        "    if a[i] + times[i] < a[i+1] + times[i+1]: \r\n",
        "        a[i] = a[i] + times[i]\r\n",
        "    return a\r\n",
        "        \r\n",
        "solution(15,[15,5,5,5,5,5])\r\n"
      ],
      "execution_count": 150,
      "outputs": [
        {
          "output_type": "execute_result",
          "data": {
            "text/plain": [
              "15"
            ]
          },
          "metadata": {
            "tags": []
          },
          "execution_count": 150
        }
      ]
    },
    {
      "cell_type": "code",
      "metadata": {
        "colab": {
          "base_uri": "https://localhost:8080/"
        },
        "id": "MmMujEpe73II",
        "outputId": "d37ff5cf-cef0-4c1f-89f9-d0947e6fd4e4"
      },
      "source": [
        "import math\r\n",
        "def solution(n, times):\r\n",
        "    times.sort()\r\n",
        "    a = []\r\n",
        "    b = []\r\n",
        "    a.append(n)\r\n",
        "    b.append(n*times[0])\r\n",
        "    print(a,b)\r\n",
        "\r\n",
        "    a[0] /= 2\r\n",
        "    a.append(a[0]) \r\n",
        "    b.append(n*times[1])\r\n",
        "    if b[1]>b[0]:\r\n",
        "        print(math.trunc  ((b[1]-b[0])/(2*times[1])))\r\n",
        "    print(a,b)\r\n",
        "\r\n",
        "    answer = a\r\n",
        "    return answer\r\n",
        "print(solution(50,[2,3,4,5,55]))"
      ],
      "execution_count": 178,
      "outputs": [
        {
          "output_type": "stream",
          "text": [
            "[50] [100]\n",
            "8\n",
            "[25.0, 25.0] [100, 150]\n",
            "[25.0, 25.0]\n"
          ],
          "name": "stdout"
        }
      ]
    }
  ]
}