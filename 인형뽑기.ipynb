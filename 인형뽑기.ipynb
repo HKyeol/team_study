{
  "nbformat": 4,
  "nbformat_minor": 0,
  "metadata": {
    "colab": {
      "name": "인형뽑기.ipynb",
      "provenance": [],
      "authorship_tag": "ABX9TyP0q/lyL10yQR/QV0LGGuS4",
      "include_colab_link": true
    },
    "kernelspec": {
      "name": "python3",
      "display_name": "Python 3"
    }
  },
  "cells": [
    {
      "cell_type": "markdown",
      "metadata": {
        "id": "view-in-github",
        "colab_type": "text"
      },
      "source": [
        "<a href=\"https://colab.research.google.com/github/HKyeol/team_study/blob/main/%EC%9D%B8%ED%98%95%EB%BD%91%EA%B8%B0.ipynb\" target=\"_parent\"><img src=\"https://colab.research.google.com/assets/colab-badge.svg\" alt=\"Open In Colab\"/></a>"
      ]
    },
    {
      "cell_type": "code",
      "metadata": {
        "colab": {
          "base_uri": "https://localhost:8080/"
        },
        "id": "gtpXFZacxfEB",
        "outputId": "cc8938c0-61f5-4769-fcf7-4c5cfe5998b6"
      },
      "source": [
        "import numpy as np\r\n",
        "board = [[0,0,0,0,0],[0,0,1,0,3],[0,2,5,0,1],[4,2,4,4,2],[3,5,1,3,1]]\r\n",
        "moves = [1,5,3,5,1,2,1,4]\r\n",
        "def solution(board, moves):\r\n",
        "    bin = []\r\n",
        "    N = len(board[0])\r\n",
        "    answer = 0\r\n",
        "    ########################\r\n",
        "    #       인형뽑기       #\r\n",
        "    ########################\r\n",
        "    for k in moves:\r\n",
        "        if len(bin)>1:\r\n",
        "            if bin[-2] == bin[-1]:\r\n",
        "                del bin[-2],bin[-1]\r\n",
        "                answer += 2\r\n",
        "        for i in range(0,N): # 5 대신 N을 넣어야함\r\n",
        "            if np.array(board)[i][k-1] != 0: # 비지 않은 칸을 찾아서\r\n",
        "                bin.append(board[i][k-1])  # bin에 집어다 넣고\r\n",
        "                board[i][k-1] = 0          # 원래꺼를 삭제함\r\n",
        "                break\r\n",
        "    return answer\r\n",
        "    ########################\r\n",
        "print(solution(board, moves))\r\n",
        "#print(np.array(board))\r\n"
      ],
      "execution_count": 7,
      "outputs": [
        {
          "output_type": "stream",
          "text": [
            "4\n"
          ],
          "name": "stdout"
        }
      ]
    },
    {
      "cell_type": "markdown",
      "metadata": {
        "id": "q225PKhnxi9v"
      },
      "source": [
        "다른사람 답 : 배울거 = pop"
      ]
    },
    {
      "cell_type": "code",
      "metadata": {
        "id": "T0SOOGCexiRT"
      },
      "source": [
        "def solution(board, moves):\r\n",
        "    stacklist = []\r\n",
        "    answer = 0\r\n",
        "\r\n",
        "    for i in moves:\r\n",
        "        for j in range(len(board)):\r\n",
        "            if board[j][i-1] != 0:\r\n",
        "                stacklist.append(board[j][i-1])\r\n",
        "                board[j][i-1] = 0\r\n",
        "\r\n",
        "                if len(stacklist) > 1:\r\n",
        "                    if stacklist[-1] == stacklist[-2]:\r\n",
        "                        stacklist.pop(-1)\r\n",
        "                        stacklist.pop(-1)\r\n",
        "                        answer += 2     \r\n",
        "                break\r\n",
        "\r\n",
        "    return answer"
      ],
      "execution_count": null,
      "outputs": []
    },
    {
      "cell_type": "code",
      "metadata": {
        "colab": {
          "base_uri": "https://localhost:8080/"
        },
        "id": "gImUl4uuxlpH",
        "outputId": "80045ebf-00c4-4012-98f2-52726312ca22"
      },
      "source": [
        "board = [3,5,1,3,1]\r\n",
        "board.pop(-5)\r\n",
        "board"
      ],
      "execution_count": 12,
      "outputs": [
        {
          "output_type": "execute_result",
          "data": {
            "text/plain": [
              "[5, 1, 3, 1]"
            ]
          },
          "metadata": {
            "tags": []
          },
          "execution_count": 12
        }
      ]
    }
  ]
}