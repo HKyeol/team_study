{
  "nbformat": 4,
  "nbformat_minor": 0,
  "metadata": {
    "colab": {
      "name": "1234567891011재귀.ipynb",
      "provenance": [],
      "authorship_tag": "ABX9TyP90dfwBCzIFgOiuwZPXFUo",
      "include_colab_link": true
    },
    "kernelspec": {
      "name": "python3",
      "display_name": "Python 3"
    }
  },
  "cells": [
    {
      "cell_type": "markdown",
      "metadata": {
        "id": "view-in-github",
        "colab_type": "text"
      },
      "source": [
        "<a href=\"https://colab.research.google.com/github/HKyeol/team_study/blob/main/1234567891011%EC%9E%AC%EA%B7%80.ipynb\" target=\"_parent\"><img src=\"https://colab.research.google.com/assets/colab-badge.svg\" alt=\"Open In Colab\"/></a>"
      ]
    },
    {
      "cell_type": "code",
      "metadata": {
        "colab": {
          "base_uri": "https://localhost:8080/"
        },
        "id": "PoQXo9jKjV-a",
        "outputId": "daae6d37-39f1-4184-9d4a-23f1c1a0e618"
      },
      "source": [
        "import math\r\n",
        "def add_number(number,stack=0,start=0): # 입력받을 숫자, stack = 누적, start = 한자리씩 올리기 위함\r\n",
        "    squ = 0\r\n",
        "    squ = start + stack # 제곱에 들어갈 숫자 = 기본적으로 n-1승 + stack\r\n",
        "    stack += math.trunc(math.log10(number)) # stack은 log10해서 버림한 숫자의 sum\r\n",
        "    if number == 1: # 1이면\r\n",
        "        return number*(10**squ) # 1곱하기 10의 squ 제곱\r\n",
        "    else:\r\n",
        "        return add_number(number-1,stack,start+1) + number * (10**squ)  # 재귀함수 \r\n",
        "        # 2를 넣으면 2*10^squ + add_num(1) = 1*10^1 + 2*10^0\r\n",
        "\r\n",
        "add_number(101)"
      ],
      "execution_count": 145,
      "outputs": [
        {
          "output_type": "execute_result",
          "data": {
            "text/plain": [
              "123456789101112131415161718192021222324252627282930313233343536373839404142434445464748495051525354555657585960616263646566676869707172737475767778798081828384858687888990919293949596979899100101"
            ]
          },
          "metadata": {
            "tags": []
          },
          "execution_count": 145
        }
      ]
    }
  ]
}