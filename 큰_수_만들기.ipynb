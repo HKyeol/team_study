{
  "nbformat": 4,
  "nbformat_minor": 0,
  "metadata": {
    "colab": {
      "name": "큰 수 만들기.ipynb",
      "provenance": [],
      "collapsed_sections": [],
      "authorship_tag": "ABX9TyO86vKbbfrdOz7oi2FHIkQc",
      "include_colab_link": true
    },
    "kernelspec": {
      "name": "python3",
      "display_name": "Python 3"
    }
  },
  "cells": [
    {
      "cell_type": "markdown",
      "metadata": {
        "id": "view-in-github",
        "colab_type": "text"
      },
      "source": [
        "<a href=\"https://colab.research.google.com/github/HKyeol/team_study/blob/main/%ED%81%B0_%EC%88%98_%EB%A7%8C%EB%93%A4%EA%B8%B0.ipynb\" target=\"_parent\"><img src=\"https://colab.research.google.com/assets/colab-badge.svg\" alt=\"Open In Colab\"/></a>"
      ]
    },
    {
      "cell_type": "markdown",
      "metadata": {
        "id": "WDk3ztzS42CI"
      },
      "source": [
        "문자열 형식으로 숫자 number와  \r\n",
        "제거할 수의 개수 k가 solution 함수의 매개변수로 주어집니다.  \r\n",
        "number에서 k 개의 수를 제거했을 때 만들 수 있는 수 중 가장 큰 숫자를  \r\n",
        "문자열 형태로 return 하도록 solution 함수를 완성하세요."
      ]
    },
    {
      "cell_type": "markdown",
      "metadata": {
        "id": "hCMPD9aY5CjR"
      },
      "source": [
        "1. k가 몇인지 본다.\r\n",
        "k >= len(number)-1 이 아니라면\r\n",
        "2. k를 오른쪽부터 센 후, 남은 데이터[:k+1개]에서 가장 큰 수를 찾는다. 왜냐하면 아무리 9가 큰 수라도 10보다는 작기 때문이다.  \r\n",
        "3. 왼쪽을 다 제거한다.\r\n",
        "4. 오른쪽은 k개가 남았을거다. 남은제거횟수는 k-왼쪽숫자\r\n",
        "5. 오른쪽부터 k-왼쪽숫자를 센다. 나머지 데이터를 이용해서 또 가장 큰 숫자를 찾는다. - 남은 제거횟수가 0이 될 때 까지 반복한다.\r\n",
        "\r\n"
      ]
    },
    {
      "cell_type": "markdown",
      "metadata": {
        "id": "8x0wfxlCCAMF"
      },
      "source": [
        "답1 6 7 8 10 12 실패"
      ]
    },
    {
      "cell_type": "code",
      "metadata": {
        "id": "eHqVrkHE41fP"
      },
      "source": [
        "def solution(number, k):\r\n",
        "    if k == 0:\r\n",
        "        return number\r\n",
        "    else:\r\n",
        "        max_num_index = 0\r\n",
        "        for i in range(len(number[:k+1])):\r\n",
        "            if int(number[i]) > int(number[max_num_index]):\r\n",
        "                max_num_index = int(i)\r\n",
        "        k -= max_num_index\r\n",
        "        return number[max_num_index]+ solution(number[max_num_index+1:], k)"
      ],
      "execution_count": null,
      "outputs": []
    },
    {
      "cell_type": "markdown",
      "metadata": {
        "id": "Apf_tuelCOIl"
      },
      "source": [
        "답2 - 6 7 8 10 실패 12개선됨"
      ]
    },
    {
      "cell_type": "code",
      "metadata": {
        "colab": {
          "base_uri": "https://localhost:8080/",
          "height": 35
        },
        "id": "odg27yBV400G",
        "outputId": "551125ac-cfe3-48a6-df93-07d4ae173126"
      },
      "source": [
        "def solution(number, k):\r\n",
        "#    print(number[:k+1])\r\n",
        "    if k < len(number)-1:\r\n",
        "        if k == 0:\r\n",
        "            return number\r\n",
        "        else:\r\n",
        "            max_num_index = 0\r\n",
        "            for i in range(len(number[:k+1])):\r\n",
        "                if int(number[i]) > int(number[max_num_index]):\r\n",
        "                    max_num_index = int(i)\r\n",
        "            # 가장 큰거 세준다. 가장 큰 수 중에 왼쪽에 있는놈 세준다.\r\n",
        "            k -= max_num_index\r\n",
        "    #        print(len(number[max_num_index:]),k,max_num_index)\r\n",
        "#            number = number[max_num_index:]\r\n",
        "    #        print(number, max_num_index)\r\n",
        "    #        print(k, len(number))\r\n",
        "            return number[max_num_index]+ solution(number[max_num_index+1:], k)\r\n",
        "    else:\r\n",
        "        if k == len(number)-1:\r\n",
        "            return max(number)\r\n",
        "        elif k > len(number)-1:\r\n",
        "            return ''\r\n",
        "\r\n",
        "\r\n",
        "number = \"4177252841\"\r\n",
        "number = \"1231234\"\r\n",
        "solution(number,3)"
      ],
      "execution_count": 71,
      "outputs": [
        {
          "output_type": "execute_result",
          "data": {
            "application/vnd.google.colaboratory.intrinsic+json": {
              "type": "string"
            },
            "text/plain": [
              "'4'"
            ]
          },
          "metadata": {
            "tags": []
          },
          "execution_count": 71
        }
      ]
    },
    {
      "cell_type": "markdown",
      "metadata": {
        "id": "6G1txkWfEOvV"
      },
      "source": [
        "스바,... 만약에 .이 있다면 . 오른쪽에서 돌려야한다.\r\n",
        "점 오른쪽부터 컷해나간다.\r\n",
        "점 오른쪽이 다 없어지면 점을 지운다. 그리고 점 좌측을 컷해나간다.\r\n",
        "```\r\n",
        "k가 몇인지 본다. k >= len(number)-1 이 아니라면\r\n",
        "k를 오른쪽부터 센 후, 남은 데이터[:k+1개]에서 가장 큰 수를 찾는다. 왜냐하면 아무리 9가 큰 수라도 10보다는 작기 때문이다.\r\n",
        "왼쪽을 다 제거한다.\r\n",
        "오른쪽은 k개가 남았을거다. 남은제거횟수는 k-왼쪽숫자\r\n",
        "오른쪽부터 k-왼쪽숫자를 센다. 나머지 데이터를 이용해서 또 가장 큰 숫자를 찾는다. - 남은 제거횟수가 0이 될 때 까지 반복한다.\r\n",
        "```"
      ]
    },
    {
      "cell_type": "code",
      "metadata": {
        "colab": {
          "base_uri": "https://localhost:8080/",
          "height": 412
        },
        "id": "znZgKjqJCGaD",
        "outputId": "d4544a0d-2ca2-4ee3-9962-ff46cb28a505"
      },
      "source": [
        "def solution(number, k):\r\n",
        "    if '.' in number:\r\n",
        "        temp = ''\r\n",
        "        temp, k = right_f(number[number.index('.')+1:],k)\r\n",
        "        number = number[:number.index('.')]+temp\r\n",
        "\r\n",
        "        if k ==0:\r\n",
        "            return number\r\n",
        "        else:\r\n",
        "            number = left_f(number,k)\r\n",
        "            return number\r\n",
        "    else:\r\n",
        "        temp = left_f(number,k)\r\n",
        "        number = temp\r\n",
        "        return number\r\n",
        "    if k ==0:\r\n",
        "        return number\r\n",
        "        #우측 내림차순\r\n",
        "        #좌측 내림차순\r\n",
        "#    else:\r\n",
        "        #좌측 내림차순\r\n",
        "\r\n",
        "number = \"123419\"\r\n",
        "#number = \"12321\"\r\n",
        "for i in range(len(number)):\r\n",
        "    print(solution(number,i))"
      ],
      "execution_count": 342,
      "outputs": [
        {
          "output_type": "stream",
          "text": [
            "123419\n"
          ],
          "name": "stdout"
        },
        {
          "output_type": "error",
          "ename": "RecursionError",
          "evalue": "ignored",
          "traceback": [
            "\u001b[0;31m---------------------------------------------------------------------------\u001b[0m",
            "\u001b[0;31mRecursionError\u001b[0m                            Traceback (most recent call last)",
            "\u001b[0;32m<ipython-input-342-a27f76e79ba4>\u001b[0m in \u001b[0;36m<module>\u001b[0;34m()\u001b[0m\n\u001b[1;32m     24\u001b[0m \u001b[0;31m#number = \"12321\"\u001b[0m\u001b[0;34m\u001b[0m\u001b[0;34m\u001b[0m\u001b[0;34m\u001b[0m\u001b[0m\n\u001b[1;32m     25\u001b[0m \u001b[0;32mfor\u001b[0m \u001b[0mi\u001b[0m \u001b[0;32min\u001b[0m \u001b[0mrange\u001b[0m\u001b[0;34m(\u001b[0m\u001b[0mlen\u001b[0m\u001b[0;34m(\u001b[0m\u001b[0mnumber\u001b[0m\u001b[0;34m)\u001b[0m\u001b[0;34m)\u001b[0m\u001b[0;34m:\u001b[0m\u001b[0;34m\u001b[0m\u001b[0;34m\u001b[0m\u001b[0m\n\u001b[0;32m---> 26\u001b[0;31m     \u001b[0mprint\u001b[0m\u001b[0;34m(\u001b[0m\u001b[0msolution\u001b[0m\u001b[0;34m(\u001b[0m\u001b[0mnumber\u001b[0m\u001b[0;34m,\u001b[0m\u001b[0mi\u001b[0m\u001b[0;34m)\u001b[0m\u001b[0;34m)\u001b[0m\u001b[0;34m\u001b[0m\u001b[0;34m\u001b[0m\u001b[0m\n\u001b[0m",
            "\u001b[0;32m<ipython-input-342-a27f76e79ba4>\u001b[0m in \u001b[0;36msolution\u001b[0;34m(number, k)\u001b[0m\n\u001b[1;32m     11\u001b[0m             \u001b[0;32mreturn\u001b[0m \u001b[0mnumber\u001b[0m\u001b[0;34m\u001b[0m\u001b[0;34m\u001b[0m\u001b[0m\n\u001b[1;32m     12\u001b[0m     \u001b[0;32melse\u001b[0m\u001b[0;34m:\u001b[0m\u001b[0;34m\u001b[0m\u001b[0;34m\u001b[0m\u001b[0m\n\u001b[0;32m---> 13\u001b[0;31m         \u001b[0mtemp\u001b[0m \u001b[0;34m=\u001b[0m \u001b[0mleft_f\u001b[0m\u001b[0;34m(\u001b[0m\u001b[0mnumber\u001b[0m\u001b[0;34m,\u001b[0m\u001b[0mk\u001b[0m\u001b[0;34m)\u001b[0m\u001b[0;34m\u001b[0m\u001b[0;34m\u001b[0m\u001b[0m\n\u001b[0m\u001b[1;32m     14\u001b[0m         \u001b[0mnumber\u001b[0m \u001b[0;34m=\u001b[0m \u001b[0mtemp\u001b[0m\u001b[0;34m\u001b[0m\u001b[0;34m\u001b[0m\u001b[0m\n\u001b[1;32m     15\u001b[0m         \u001b[0;32mreturn\u001b[0m \u001b[0mnumber\u001b[0m\u001b[0;34m\u001b[0m\u001b[0;34m\u001b[0m\u001b[0m\n",
            "\u001b[0;32m<ipython-input-328-edc4cc698376>\u001b[0m in \u001b[0;36mleft_f\u001b[0;34m(number, k)\u001b[0m\n\u001b[1;32m     15\u001b[0m             \u001b[0;32mreturn\u001b[0m \u001b[0mmax\u001b[0m\u001b[0;34m(\u001b[0m\u001b[0mnumber\u001b[0m\u001b[0;34m)\u001b[0m\u001b[0;34m\u001b[0m\u001b[0;34m\u001b[0m\u001b[0m\n\u001b[1;32m     16\u001b[0m         \u001b[0;32melse\u001b[0m\u001b[0;34m:\u001b[0m\u001b[0;34m\u001b[0m\u001b[0;34m\u001b[0m\u001b[0m\n\u001b[0;32m---> 17\u001b[0;31m             \u001b[0;32mreturn\u001b[0m \u001b[0mroll\u001b[0m\u001b[0;34m(\u001b[0m\u001b[0mnumber\u001b[0m\u001b[0;34m,\u001b[0m\u001b[0mk\u001b[0m\u001b[0;34m)\u001b[0m\u001b[0;34m\u001b[0m\u001b[0;34m\u001b[0m\u001b[0m\n\u001b[0m\u001b[1;32m     18\u001b[0m \u001b[0;34m\u001b[0m\u001b[0m\n\u001b[1;32m     19\u001b[0m \u001b[0mnumber\u001b[0m \u001b[0;34m=\u001b[0m \u001b[0;34m\"12321.4312\"\u001b[0m\u001b[0;34m\u001b[0m\u001b[0;34m\u001b[0m\u001b[0m\n",
            "\u001b[0;32m<ipython-input-341-59067a719fb1>\u001b[0m in \u001b[0;36mroll\u001b[0;34m(number, k)\u001b[0m\n\u001b[1;32m     16\u001b[0m             \u001b[0mk\u001b[0m \u001b[0;34m-=\u001b[0m \u001b[0mmax_num_index\u001b[0m\u001b[0;34m\u001b[0m\u001b[0;34m\u001b[0m\u001b[0m\n\u001b[1;32m     17\u001b[0m             \u001b[0;32mif\u001b[0m \u001b[0mlen\u001b[0m\u001b[0;34m(\u001b[0m\u001b[0mnumber\u001b[0m\u001b[0;34m[\u001b[0m\u001b[0mmax_num_index\u001b[0m\u001b[0;34m+\u001b[0m\u001b[0mend\u001b[0m\u001b[0;34m+\u001b[0m\u001b[0;36m1\u001b[0m\u001b[0;34m:\u001b[0m\u001b[0;34m]\u001b[0m\u001b[0;34m)\u001b[0m \u001b[0;34m>\u001b[0m \u001b[0mk\u001b[0m\u001b[0;34m:\u001b[0m\u001b[0;34m\u001b[0m\u001b[0;34m\u001b[0m\u001b[0m\n\u001b[0;32m---> 18\u001b[0;31m                 \u001b[0;32mreturn\u001b[0m \u001b[0mnumber\u001b[0m\u001b[0;34m[\u001b[0m\u001b[0mmax_num_index\u001b[0m\u001b[0;34m:\u001b[0m\u001b[0mmax_num_index\u001b[0m\u001b[0;34m+\u001b[0m\u001b[0mend\u001b[0m\u001b[0;34m+\u001b[0m\u001b[0;36m1\u001b[0m\u001b[0;34m]\u001b[0m\u001b[0;34m+\u001b[0m \u001b[0mroll\u001b[0m\u001b[0;34m(\u001b[0m\u001b[0mnumber\u001b[0m\u001b[0;34m[\u001b[0m\u001b[0mmax_num_index\u001b[0m\u001b[0;34m+\u001b[0m\u001b[0mend\u001b[0m\u001b[0;34m+\u001b[0m\u001b[0;36m1\u001b[0m\u001b[0;34m:\u001b[0m\u001b[0;34m]\u001b[0m\u001b[0;34m,\u001b[0m \u001b[0mk\u001b[0m\u001b[0;34m)\u001b[0m\u001b[0;34m\u001b[0m\u001b[0;34m\u001b[0m\u001b[0m\n\u001b[0m\u001b[1;32m     19\u001b[0m             \u001b[0;32melif\u001b[0m \u001b[0mlen\u001b[0m\u001b[0;34m(\u001b[0m\u001b[0mnumber\u001b[0m\u001b[0;34m[\u001b[0m\u001b[0mmax_num_index\u001b[0m\u001b[0;34m+\u001b[0m\u001b[0mend\u001b[0m\u001b[0;34m+\u001b[0m\u001b[0;36m1\u001b[0m\u001b[0;34m:\u001b[0m\u001b[0;34m]\u001b[0m\u001b[0;34m)\u001b[0m \u001b[0;34m==\u001b[0m \u001b[0mk\u001b[0m\u001b[0;34m:\u001b[0m\u001b[0;34m\u001b[0m\u001b[0;34m\u001b[0m\u001b[0m\n\u001b[1;32m     20\u001b[0m                 \u001b[0;32mreturn\u001b[0m \u001b[0mnumber\u001b[0m\u001b[0;34m[\u001b[0m\u001b[0mmax_num_index\u001b[0m\u001b[0;34m:\u001b[0m\u001b[0mmax_num_index\u001b[0m\u001b[0;34m+\u001b[0m\u001b[0mend\u001b[0m\u001b[0;34m+\u001b[0m\u001b[0;36m1\u001b[0m\u001b[0;34m]\u001b[0m\u001b[0;34m\u001b[0m\u001b[0;34m\u001b[0m\u001b[0m\n",
            "... last 1 frames repeated, from the frame below ...\n",
            "\u001b[0;32m<ipython-input-341-59067a719fb1>\u001b[0m in \u001b[0;36mroll\u001b[0;34m(number, k)\u001b[0m\n\u001b[1;32m     16\u001b[0m             \u001b[0mk\u001b[0m \u001b[0;34m-=\u001b[0m \u001b[0mmax_num_index\u001b[0m\u001b[0;34m\u001b[0m\u001b[0;34m\u001b[0m\u001b[0m\n\u001b[1;32m     17\u001b[0m             \u001b[0;32mif\u001b[0m \u001b[0mlen\u001b[0m\u001b[0;34m(\u001b[0m\u001b[0mnumber\u001b[0m\u001b[0;34m[\u001b[0m\u001b[0mmax_num_index\u001b[0m\u001b[0;34m+\u001b[0m\u001b[0mend\u001b[0m\u001b[0;34m+\u001b[0m\u001b[0;36m1\u001b[0m\u001b[0;34m:\u001b[0m\u001b[0;34m]\u001b[0m\u001b[0;34m)\u001b[0m \u001b[0;34m>\u001b[0m \u001b[0mk\u001b[0m\u001b[0;34m:\u001b[0m\u001b[0;34m\u001b[0m\u001b[0;34m\u001b[0m\u001b[0m\n\u001b[0;32m---> 18\u001b[0;31m                 \u001b[0;32mreturn\u001b[0m \u001b[0mnumber\u001b[0m\u001b[0;34m[\u001b[0m\u001b[0mmax_num_index\u001b[0m\u001b[0;34m:\u001b[0m\u001b[0mmax_num_index\u001b[0m\u001b[0;34m+\u001b[0m\u001b[0mend\u001b[0m\u001b[0;34m+\u001b[0m\u001b[0;36m1\u001b[0m\u001b[0;34m]\u001b[0m\u001b[0;34m+\u001b[0m \u001b[0mroll\u001b[0m\u001b[0;34m(\u001b[0m\u001b[0mnumber\u001b[0m\u001b[0;34m[\u001b[0m\u001b[0mmax_num_index\u001b[0m\u001b[0;34m+\u001b[0m\u001b[0mend\u001b[0m\u001b[0;34m+\u001b[0m\u001b[0;36m1\u001b[0m\u001b[0;34m:\u001b[0m\u001b[0;34m]\u001b[0m\u001b[0;34m,\u001b[0m \u001b[0mk\u001b[0m\u001b[0;34m)\u001b[0m\u001b[0;34m\u001b[0m\u001b[0;34m\u001b[0m\u001b[0m\n\u001b[0m\u001b[1;32m     19\u001b[0m             \u001b[0;32melif\u001b[0m \u001b[0mlen\u001b[0m\u001b[0;34m(\u001b[0m\u001b[0mnumber\u001b[0m\u001b[0;34m[\u001b[0m\u001b[0mmax_num_index\u001b[0m\u001b[0;34m+\u001b[0m\u001b[0mend\u001b[0m\u001b[0;34m+\u001b[0m\u001b[0;36m1\u001b[0m\u001b[0;34m:\u001b[0m\u001b[0;34m]\u001b[0m\u001b[0;34m)\u001b[0m \u001b[0;34m==\u001b[0m \u001b[0mk\u001b[0m\u001b[0;34m:\u001b[0m\u001b[0;34m\u001b[0m\u001b[0;34m\u001b[0m\u001b[0m\n\u001b[1;32m     20\u001b[0m                 \u001b[0;32mreturn\u001b[0m \u001b[0mnumber\u001b[0m\u001b[0;34m[\u001b[0m\u001b[0mmax_num_index\u001b[0m\u001b[0;34m:\u001b[0m\u001b[0mmax_num_index\u001b[0m\u001b[0;34m+\u001b[0m\u001b[0mend\u001b[0m\u001b[0;34m+\u001b[0m\u001b[0;36m1\u001b[0m\u001b[0;34m]\u001b[0m\u001b[0;34m\u001b[0m\u001b[0;34m\u001b[0m\u001b[0m\n",
            "\u001b[0;31mRecursionError\u001b[0m: maximum recursion depth exceeded in comparison"
          ]
        }
      ]
    },
    {
      "cell_type": "code",
      "metadata": {
        "id": "37WApdDIDAS-"
      },
      "source": [
        "def right_f(number,k):\r\n",
        "    if len(number) <= k:\r\n",
        "        return ['', k-len(number)]\r\n",
        "    else:\r\n",
        "        if k == len(number)-1:\r\n",
        "            return ['.'+max(number),0]\r\n",
        "        else:\r\n",
        "            return ['.'+roll(number,k),0]\r\n",
        "def left_f(number,k):\r\n",
        "\r\n",
        "    if len(number) <= k:\r\n",
        "        return ''\r\n",
        "    else:\r\n",
        "        if k == len(number)-1:\r\n",
        "            return max(number)\r\n",
        "        else:\r\n",
        "            return roll(number,k)\r\n",
        "\r\n",
        "number = \"12321.4312\"\r\n",
        "number = \"12321\"\r\n",
        "i = 2\r\n",
        "#solution(number,i)"
      ],
      "execution_count": 328,
      "outputs": []
    },
    {
      "cell_type": "code",
      "metadata": {
        "colab": {
          "base_uri": "https://localhost:8080/",
          "height": 502
        },
        "id": "TQn3MRKKN9cR",
        "outputId": "31af8f7e-8836-47e9-b197-5055bb030340"
      },
      "source": [
        "def roll(number,k):\r\n",
        "    print(k)\r\n",
        "    print(number)\r\n",
        "    if k < len(number)-1:\r\n",
        "        if k == 0:\r\n",
        "            return number\r\n",
        "        else:\r\n",
        "            max_num_index = 0\r\n",
        "            end = 0\r\n",
        "            for i in range(len(number[:-k])):\r\n",
        "#                print(k,number[:-k])\r\n",
        "#                print(number[i])\r\n",
        "                if int(number[i]) > int(number[max_num_index]):\r\n",
        "                    max_num_index = int(i)\r\n",
        "                    end = 0\r\n",
        "                elif int(number[i]) == int(number[max_num_index]):\r\n",
        "                    end += 1\r\n",
        "                else:\r\n",
        "                    end = 0                        \r\n",
        "            k -= max_num_index\r\n",
        "            if len(number[max_num_index+end+1:]) > k:\r\n",
        "                return number[max_num_index:max_num_index+end+1]+ roll(number[max_num_index+end+1:], k)\r\n",
        "            elif len(number[max_num_index+end+1:]) == k:\r\n",
        "                return number[max_num_index:max_num_index+end+1]\r\n",
        "            else:\r\n",
        "                k -= len(number[max_num_index+end+1:])\r\n",
        "                return number[max_num_index:max_num_index+end+1-k]\r\n",
        "    else:\r\n",
        "        if k == len(number)-1:\r\n",
        "            return max(number)\r\n",
        "        elif k > len(number)-1:\r\n",
        "            return ''\r\n",
        "roll(\"1231234\",3)"
      ],
      "execution_count": 351,
      "outputs": [
        {
          "output_type": "stream",
          "text": [
            "3\n",
            "1231234\n",
            "1\n",
            "1234\n",
            "-1\n",
            "4\n",
            "-1\n",
            "\n"
          ],
          "name": "stdout"
        },
        {
          "output_type": "error",
          "ename": "ValueError",
          "evalue": "ignored",
          "traceback": [
            "\u001b[0;31m---------------------------------------------------------------------------\u001b[0m",
            "\u001b[0;31mValueError\u001b[0m                                Traceback (most recent call last)",
            "\u001b[0;32m<ipython-input-351-54a86752c546>\u001b[0m in \u001b[0;36m<module>\u001b[0;34m()\u001b[0m\n\u001b[1;32m     31\u001b[0m         \u001b[0;32melif\u001b[0m \u001b[0mk\u001b[0m \u001b[0;34m>\u001b[0m \u001b[0mlen\u001b[0m\u001b[0;34m(\u001b[0m\u001b[0mnumber\u001b[0m\u001b[0;34m)\u001b[0m\u001b[0;34m-\u001b[0m\u001b[0;36m1\u001b[0m\u001b[0;34m:\u001b[0m\u001b[0;34m\u001b[0m\u001b[0;34m\u001b[0m\u001b[0m\n\u001b[1;32m     32\u001b[0m             \u001b[0;32mreturn\u001b[0m \u001b[0;34m''\u001b[0m\u001b[0;34m\u001b[0m\u001b[0;34m\u001b[0m\u001b[0m\n\u001b[0;32m---> 33\u001b[0;31m \u001b[0mroll\u001b[0m\u001b[0;34m(\u001b[0m\u001b[0;34m\"1231234\"\u001b[0m\u001b[0;34m,\u001b[0m\u001b[0;36m3\u001b[0m\u001b[0;34m)\u001b[0m\u001b[0;34m\u001b[0m\u001b[0;34m\u001b[0m\u001b[0m\n\u001b[0m",
            "\u001b[0;32m<ipython-input-351-54a86752c546>\u001b[0m in \u001b[0;36mroll\u001b[0;34m(number, k)\u001b[0m\n\u001b[1;32m     20\u001b[0m             \u001b[0mk\u001b[0m \u001b[0;34m-=\u001b[0m \u001b[0mmax_num_index\u001b[0m\u001b[0;34m\u001b[0m\u001b[0;34m\u001b[0m\u001b[0m\n\u001b[1;32m     21\u001b[0m             \u001b[0;32mif\u001b[0m \u001b[0mlen\u001b[0m\u001b[0;34m(\u001b[0m\u001b[0mnumber\u001b[0m\u001b[0;34m[\u001b[0m\u001b[0mmax_num_index\u001b[0m\u001b[0;34m+\u001b[0m\u001b[0mend\u001b[0m\u001b[0;34m+\u001b[0m\u001b[0;36m1\u001b[0m\u001b[0;34m:\u001b[0m\u001b[0;34m]\u001b[0m\u001b[0;34m)\u001b[0m \u001b[0;34m>\u001b[0m \u001b[0mk\u001b[0m\u001b[0;34m:\u001b[0m\u001b[0;34m\u001b[0m\u001b[0;34m\u001b[0m\u001b[0m\n\u001b[0;32m---> 22\u001b[0;31m                 \u001b[0;32mreturn\u001b[0m \u001b[0mnumber\u001b[0m\u001b[0;34m[\u001b[0m\u001b[0mmax_num_index\u001b[0m\u001b[0;34m:\u001b[0m\u001b[0mmax_num_index\u001b[0m\u001b[0;34m+\u001b[0m\u001b[0mend\u001b[0m\u001b[0;34m+\u001b[0m\u001b[0;36m1\u001b[0m\u001b[0;34m]\u001b[0m\u001b[0;34m+\u001b[0m \u001b[0mroll\u001b[0m\u001b[0;34m(\u001b[0m\u001b[0mnumber\u001b[0m\u001b[0;34m[\u001b[0m\u001b[0mmax_num_index\u001b[0m\u001b[0;34m+\u001b[0m\u001b[0mend\u001b[0m\u001b[0;34m+\u001b[0m\u001b[0;36m1\u001b[0m\u001b[0;34m:\u001b[0m\u001b[0;34m]\u001b[0m\u001b[0;34m,\u001b[0m \u001b[0mk\u001b[0m\u001b[0;34m)\u001b[0m\u001b[0;34m\u001b[0m\u001b[0;34m\u001b[0m\u001b[0m\n\u001b[0m\u001b[1;32m     23\u001b[0m             \u001b[0;32melif\u001b[0m \u001b[0mlen\u001b[0m\u001b[0;34m(\u001b[0m\u001b[0mnumber\u001b[0m\u001b[0;34m[\u001b[0m\u001b[0mmax_num_index\u001b[0m\u001b[0;34m+\u001b[0m\u001b[0mend\u001b[0m\u001b[0;34m+\u001b[0m\u001b[0;36m1\u001b[0m\u001b[0;34m:\u001b[0m\u001b[0;34m]\u001b[0m\u001b[0;34m)\u001b[0m \u001b[0;34m==\u001b[0m \u001b[0mk\u001b[0m\u001b[0;34m:\u001b[0m\u001b[0;34m\u001b[0m\u001b[0;34m\u001b[0m\u001b[0m\n\u001b[1;32m     24\u001b[0m                 \u001b[0;32mreturn\u001b[0m \u001b[0mnumber\u001b[0m\u001b[0;34m[\u001b[0m\u001b[0mmax_num_index\u001b[0m\u001b[0;34m:\u001b[0m\u001b[0mmax_num_index\u001b[0m\u001b[0;34m+\u001b[0m\u001b[0mend\u001b[0m\u001b[0;34m+\u001b[0m\u001b[0;36m1\u001b[0m\u001b[0;34m]\u001b[0m\u001b[0;34m\u001b[0m\u001b[0;34m\u001b[0m\u001b[0m\n",
            "\u001b[0;32m<ipython-input-351-54a86752c546>\u001b[0m in \u001b[0;36mroll\u001b[0;34m(number, k)\u001b[0m\n\u001b[1;32m     20\u001b[0m             \u001b[0mk\u001b[0m \u001b[0;34m-=\u001b[0m \u001b[0mmax_num_index\u001b[0m\u001b[0;34m\u001b[0m\u001b[0;34m\u001b[0m\u001b[0m\n\u001b[1;32m     21\u001b[0m             \u001b[0;32mif\u001b[0m \u001b[0mlen\u001b[0m\u001b[0;34m(\u001b[0m\u001b[0mnumber\u001b[0m\u001b[0;34m[\u001b[0m\u001b[0mmax_num_index\u001b[0m\u001b[0;34m+\u001b[0m\u001b[0mend\u001b[0m\u001b[0;34m+\u001b[0m\u001b[0;36m1\u001b[0m\u001b[0;34m:\u001b[0m\u001b[0;34m]\u001b[0m\u001b[0;34m)\u001b[0m \u001b[0;34m>\u001b[0m \u001b[0mk\u001b[0m\u001b[0;34m:\u001b[0m\u001b[0;34m\u001b[0m\u001b[0;34m\u001b[0m\u001b[0m\n\u001b[0;32m---> 22\u001b[0;31m                 \u001b[0;32mreturn\u001b[0m \u001b[0mnumber\u001b[0m\u001b[0;34m[\u001b[0m\u001b[0mmax_num_index\u001b[0m\u001b[0;34m:\u001b[0m\u001b[0mmax_num_index\u001b[0m\u001b[0;34m+\u001b[0m\u001b[0mend\u001b[0m\u001b[0;34m+\u001b[0m\u001b[0;36m1\u001b[0m\u001b[0;34m]\u001b[0m\u001b[0;34m+\u001b[0m \u001b[0mroll\u001b[0m\u001b[0;34m(\u001b[0m\u001b[0mnumber\u001b[0m\u001b[0;34m[\u001b[0m\u001b[0mmax_num_index\u001b[0m\u001b[0;34m+\u001b[0m\u001b[0mend\u001b[0m\u001b[0;34m+\u001b[0m\u001b[0;36m1\u001b[0m\u001b[0;34m:\u001b[0m\u001b[0;34m]\u001b[0m\u001b[0;34m,\u001b[0m \u001b[0mk\u001b[0m\u001b[0;34m)\u001b[0m\u001b[0;34m\u001b[0m\u001b[0;34m\u001b[0m\u001b[0m\n\u001b[0m\u001b[1;32m     23\u001b[0m             \u001b[0;32melif\u001b[0m \u001b[0mlen\u001b[0m\u001b[0;34m(\u001b[0m\u001b[0mnumber\u001b[0m\u001b[0;34m[\u001b[0m\u001b[0mmax_num_index\u001b[0m\u001b[0;34m+\u001b[0m\u001b[0mend\u001b[0m\u001b[0;34m+\u001b[0m\u001b[0;36m1\u001b[0m\u001b[0;34m:\u001b[0m\u001b[0;34m]\u001b[0m\u001b[0;34m)\u001b[0m \u001b[0;34m==\u001b[0m \u001b[0mk\u001b[0m\u001b[0;34m:\u001b[0m\u001b[0;34m\u001b[0m\u001b[0;34m\u001b[0m\u001b[0m\n\u001b[1;32m     24\u001b[0m                 \u001b[0;32mreturn\u001b[0m \u001b[0mnumber\u001b[0m\u001b[0;34m[\u001b[0m\u001b[0mmax_num_index\u001b[0m\u001b[0;34m:\u001b[0m\u001b[0mmax_num_index\u001b[0m\u001b[0;34m+\u001b[0m\u001b[0mend\u001b[0m\u001b[0;34m+\u001b[0m\u001b[0;36m1\u001b[0m\u001b[0;34m]\u001b[0m\u001b[0;34m\u001b[0m\u001b[0;34m\u001b[0m\u001b[0m\n",
            "\u001b[0;32m<ipython-input-351-54a86752c546>\u001b[0m in \u001b[0;36mroll\u001b[0;34m(number, k)\u001b[0m\n\u001b[1;32m     20\u001b[0m             \u001b[0mk\u001b[0m \u001b[0;34m-=\u001b[0m \u001b[0mmax_num_index\u001b[0m\u001b[0;34m\u001b[0m\u001b[0;34m\u001b[0m\u001b[0m\n\u001b[1;32m     21\u001b[0m             \u001b[0;32mif\u001b[0m \u001b[0mlen\u001b[0m\u001b[0;34m(\u001b[0m\u001b[0mnumber\u001b[0m\u001b[0;34m[\u001b[0m\u001b[0mmax_num_index\u001b[0m\u001b[0;34m+\u001b[0m\u001b[0mend\u001b[0m\u001b[0;34m+\u001b[0m\u001b[0;36m1\u001b[0m\u001b[0;34m:\u001b[0m\u001b[0;34m]\u001b[0m\u001b[0;34m)\u001b[0m \u001b[0;34m>\u001b[0m \u001b[0mk\u001b[0m\u001b[0;34m:\u001b[0m\u001b[0;34m\u001b[0m\u001b[0;34m\u001b[0m\u001b[0m\n\u001b[0;32m---> 22\u001b[0;31m                 \u001b[0;32mreturn\u001b[0m \u001b[0mnumber\u001b[0m\u001b[0;34m[\u001b[0m\u001b[0mmax_num_index\u001b[0m\u001b[0;34m:\u001b[0m\u001b[0mmax_num_index\u001b[0m\u001b[0;34m+\u001b[0m\u001b[0mend\u001b[0m\u001b[0;34m+\u001b[0m\u001b[0;36m1\u001b[0m\u001b[0;34m]\u001b[0m\u001b[0;34m+\u001b[0m \u001b[0mroll\u001b[0m\u001b[0;34m(\u001b[0m\u001b[0mnumber\u001b[0m\u001b[0;34m[\u001b[0m\u001b[0mmax_num_index\u001b[0m\u001b[0;34m+\u001b[0m\u001b[0mend\u001b[0m\u001b[0;34m+\u001b[0m\u001b[0;36m1\u001b[0m\u001b[0;34m:\u001b[0m\u001b[0;34m]\u001b[0m\u001b[0;34m,\u001b[0m \u001b[0mk\u001b[0m\u001b[0;34m)\u001b[0m\u001b[0;34m\u001b[0m\u001b[0;34m\u001b[0m\u001b[0m\n\u001b[0m\u001b[1;32m     23\u001b[0m             \u001b[0;32melif\u001b[0m \u001b[0mlen\u001b[0m\u001b[0;34m(\u001b[0m\u001b[0mnumber\u001b[0m\u001b[0;34m[\u001b[0m\u001b[0mmax_num_index\u001b[0m\u001b[0;34m+\u001b[0m\u001b[0mend\u001b[0m\u001b[0;34m+\u001b[0m\u001b[0;36m1\u001b[0m\u001b[0;34m:\u001b[0m\u001b[0;34m]\u001b[0m\u001b[0;34m)\u001b[0m \u001b[0;34m==\u001b[0m \u001b[0mk\u001b[0m\u001b[0;34m:\u001b[0m\u001b[0;34m\u001b[0m\u001b[0;34m\u001b[0m\u001b[0m\n\u001b[1;32m     24\u001b[0m                 \u001b[0;32mreturn\u001b[0m \u001b[0mnumber\u001b[0m\u001b[0;34m[\u001b[0m\u001b[0mmax_num_index\u001b[0m\u001b[0;34m:\u001b[0m\u001b[0mmax_num_index\u001b[0m\u001b[0;34m+\u001b[0m\u001b[0mend\u001b[0m\u001b[0;34m+\u001b[0m\u001b[0;36m1\u001b[0m\u001b[0;34m]\u001b[0m\u001b[0;34m\u001b[0m\u001b[0;34m\u001b[0m\u001b[0m\n",
            "\u001b[0;32m<ipython-input-351-54a86752c546>\u001b[0m in \u001b[0;36mroll\u001b[0;34m(number, k)\u001b[0m\n\u001b[1;32m     28\u001b[0m     \u001b[0;32melse\u001b[0m\u001b[0;34m:\u001b[0m\u001b[0;34m\u001b[0m\u001b[0;34m\u001b[0m\u001b[0m\n\u001b[1;32m     29\u001b[0m         \u001b[0;32mif\u001b[0m \u001b[0mk\u001b[0m \u001b[0;34m==\u001b[0m \u001b[0mlen\u001b[0m\u001b[0;34m(\u001b[0m\u001b[0mnumber\u001b[0m\u001b[0;34m)\u001b[0m\u001b[0;34m-\u001b[0m\u001b[0;36m1\u001b[0m\u001b[0;34m:\u001b[0m\u001b[0;34m\u001b[0m\u001b[0;34m\u001b[0m\u001b[0m\n\u001b[0;32m---> 30\u001b[0;31m             \u001b[0;32mreturn\u001b[0m \u001b[0mmax\u001b[0m\u001b[0;34m(\u001b[0m\u001b[0mnumber\u001b[0m\u001b[0;34m)\u001b[0m\u001b[0;34m\u001b[0m\u001b[0;34m\u001b[0m\u001b[0m\n\u001b[0m\u001b[1;32m     31\u001b[0m         \u001b[0;32melif\u001b[0m \u001b[0mk\u001b[0m \u001b[0;34m>\u001b[0m \u001b[0mlen\u001b[0m\u001b[0;34m(\u001b[0m\u001b[0mnumber\u001b[0m\u001b[0;34m)\u001b[0m\u001b[0;34m-\u001b[0m\u001b[0;36m1\u001b[0m\u001b[0;34m:\u001b[0m\u001b[0;34m\u001b[0m\u001b[0;34m\u001b[0m\u001b[0m\n\u001b[1;32m     32\u001b[0m             \u001b[0;32mreturn\u001b[0m \u001b[0;34m''\u001b[0m\u001b[0;34m\u001b[0m\u001b[0;34m\u001b[0m\u001b[0m\n",
            "\u001b[0;31mValueError\u001b[0m: max() arg is an empty sequence"
          ]
        }
      ]
    },
    {
      "cell_type": "markdown",
      "metadata": {
        "id": "JgjgnBsFUsi0"
      },
      "source": [
        "아직도 6 7 8 10을 통과못했다! 뭐가문제지!"
      ]
    },
    {
      "cell_type": "code",
      "metadata": {
        "colab": {
          "base_uri": "https://localhost:8080/",
          "height": 35
        },
        "id": "Z9J1AUvOWXA4",
        "outputId": "faec6017-1aef-4e22-f3ec-8cdfaa18305e"
      },
      "source": [
        "number = \"99742\"\r\n",
        "k = 1\r\n",
        "max(number[1:-k])"
      ],
      "execution_count": 357,
      "outputs": [
        {
          "output_type": "execute_result",
          "data": {
            "application/vnd.google.colaboratory.intrinsic+json": {
              "type": "string"
            },
            "text/plain": [
              "'9'"
            ]
          },
          "metadata": {
            "tags": []
          },
          "execution_count": 357
        }
      ]
    },
    {
      "cell_type": "code",
      "metadata": {
        "colab": {
          "base_uri": "https://localhost:8080/"
        },
        "id": "yn1F8WVoeVbX",
        "outputId": "2e705fc8-857f-40a1-819b-5bcbc0ae37a9"
      },
      "source": [
        "def solution(number, k):\r\n",
        "    if k == len(number)-1:\r\n",
        "        return max(number)\r\n",
        "    else:\r\n",
        "        max_index = number[:-k+1].index(max(number[:-k+1]))\r\n",
        "        number = number[max_index:]\r\n",
        "        k -= max_index\r\n",
        "        print(number,k)\r\n",
        "        end_index = max_index+count_index(number,max_index)\r\n",
        "        print(end_index)        \r\n",
        "    \r\n",
        "\r\n",
        "\r\n",
        "\r\n",
        "def count_index(number,max_index):\r\n",
        "    if number[max_index] == number[max_index+1]:\r\n",
        "        return count_index(number,max_index+1) + 1\r\n",
        "    else:\r\n",
        "        return 0\r\n",
        "number = \"232999742\"\r\n",
        "k = 7\r\n",
        "solution(number, k)"
      ],
      "execution_count": 420,
      "outputs": [
        {
          "output_type": "stream",
          "text": [
            "32999742 6\n",
            "1\n"
          ],
          "name": "stdout"
        }
      ]
    },
    {
      "cell_type": "code",
      "metadata": {
        "id": "9S1prr_bfswt"
      },
      "source": [
        "k가 더 작은 경우\r\n",
        "    그중 len(number) 보다 1만큼 작은경우\r\n",
        "    그 외\r\n",
        "    "
      ],
      "execution_count": null,
      "outputs": []
    }
  ]
}