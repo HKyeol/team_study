{
  "nbformat": 4,
  "nbformat_minor": 0,
  "metadata": {
    "colab": {
      "name": "1.collection,range리스트.ipynb",
      "provenance": [],
      "authorship_tag": "ABX9TyMC/lXet124j0oy+NO2kmAM",
      "include_colab_link": true
    },
    "kernelspec": {
      "name": "python3",
      "display_name": "Python 3"
    }
  },
  "cells": [
    {
      "cell_type": "markdown",
      "metadata": {
        "id": "view-in-github",
        "colab_type": "text"
      },
      "source": [
        "<a href=\"https://colab.research.google.com/github/HKyeol/team_study/blob/main/1_collection%2Crange%EB%A6%AC%EC%8A%A4%ED%8A%B8.ipynb\" target=\"_parent\"><img src=\"https://colab.research.google.com/assets/colab-badge.svg\" alt=\"Open In Colab\"/></a>"
      ]
    },
    {
      "cell_type": "markdown",
      "metadata": {
        "id": "DUusRhZvpKq_"
      },
      "source": [
        "# collection 사용"
      ]
    },
    {
      "cell_type": "code",
      "metadata": {
        "id": "SRnx8mgXpN9l"
      },
      "source": [
        "import collections\r\n",
        "def solution(participant, completion):\r\n",
        "    answer = collections.Counter(participant)-collections.Counter(completion)\r\n",
        "    return list(answer.keys())[0]\r\n",
        "print(solution(participant, completion))"
      ],
      "execution_count": null,
      "outputs": []
    },
    {
      "cell_type": "code",
      "metadata": {
        "colab": {
          "base_uri": "https://localhost:8080/"
        },
        "id": "_lHRUWI5o9BW",
        "outputId": "2bff152f-e9bb-40ed-a914-2d6947980521"
      },
      "source": [
        "participant = ['mislav', 'stanko', 'mislav', 'ana']\r\n",
        "completion = ['stanko', 'mislav', 'ana']\r\n",
        "answer = ''\r\n",
        "completion.append('zzz')\r\n",
        "participant.sort()\r\n",
        "completion.sort()\r\n",
        "\r\n",
        "for i, k in zip(participant,completion):\r\n",
        "#    print(i,k)\r\n",
        "    if i != k:\r\n",
        "        answer = i\r\n",
        "        break\r\n",
        "print(answer)"
      ],
      "execution_count": 1,
      "outputs": [
        {
          "output_type": "stream",
          "text": [
            "mislav\n"
          ],
          "name": "stdout"
        }
      ]
    },
    {
      "cell_type": "markdown",
      "metadata": {
        "id": "k3bW-C7epOt8"
      },
      "source": [
        "# range로 list 만들기"
      ]
    },
    {
      "cell_type": "code",
      "metadata": {
        "colab": {
          "base_uri": "https://localhost:8080/"
        },
        "id": "c1VKIe4tCCxy",
        "outputId": "41ff311b-c2d8-4be5-8543-145b4e9075b8"
      },
      "source": [
        "[0 for i in range(5)]"
      ],
      "execution_count": 193,
      "outputs": [
        {
          "output_type": "execute_result",
          "data": {
            "text/plain": [
              "[0, 0, 0, 0, 0]"
            ]
          },
          "metadata": {
            "tags": []
          },
          "execution_count": 193
        }
      ]
    },
    {
      "cell_type": "code",
      "metadata": {
        "colab": {
          "base_uri": "https://localhost:8080/"
        },
        "id": "uBrAUj5_pKJs",
        "outputId": "67e59973-a254-4079-dad6-fb1d187c4aa2"
      },
      "source": [
        "def solution(prices):\r\n",
        "    a = [0 for i in range(len(prices))]\r\n",
        "    for i in range(len(prices)):\r\n",
        "        for k in range(i+1, len(prices)):\r\n",
        "            if prices[i] <= prices[k]:\r\n",
        "                a[i] += 1\r\n",
        "            else:\r\n",
        "                a[i] += 1\r\n",
        "                break\r\n",
        "    return a\r\n",
        "\r\n",
        "prices = [1, 2, 3, 2, 3, 3]\r\n",
        "solution(prices)"
      ],
      "execution_count": 244,
      "outputs": [
        {
          "output_type": "execute_result",
          "data": {
            "text/plain": [
              "[5, 4, 1, 2, 1, 0]"
            ]
          },
          "metadata": {
            "tags": []
          },
          "execution_count": 244
        }
      ]
    },
    {
      "cell_type": "code",
      "metadata": {
        "colab": {
          "base_uri": "https://localhost:8080/"
        },
        "id": "4VtbpO315eeK",
        "outputId": "cc6f9970-a99a-4c40-e1b4-29c829bc7da6"
      },
      "source": [
        ""
      ],
      "execution_count": 238,
      "outputs": [
        {
          "output_type": "stream",
          "text": [
            "2\n",
            "3\n",
            "4\n"
          ],
          "name": "stdout"
        }
      ]
    }
  ]
}